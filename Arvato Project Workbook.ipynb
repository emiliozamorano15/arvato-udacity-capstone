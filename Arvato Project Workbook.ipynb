{
 "cells": [
  {
   "cell_type": "markdown",
   "metadata": {},
   "source": [
    "# Capstone Project: Create a Customer Segmentation Report for Arvato Financial Services\n",
    "\n",
    "In this project, you will analyze demographics data for customers of a mail-order sales company in Germany, comparing it against demographics information for the general population. You'll use unsupervised learning techniques to perform customer segmentation, identifying the parts of the population that best describe the core customer base of the company. Then, you'll apply what you've learned on a third dataset with demographics information for targets of a marketing campaign for the company, and use a model to predict which individuals are most likely to convert into becoming customers for the company. The data that you will use has been provided by our partners at Bertelsmann Arvato Analytics, and represents a real-life data science task.\n",
    "\n",
    "If you completed the first term of this program, you will be familiar with the first part of this project, from the unsupervised learning project. The versions of those two datasets used in this project will include many more features and has not been pre-cleaned. You are also free to choose whatever approach you'd like to analyzing the data rather than follow pre-determined steps. In your work on this project, make sure that you carefully document your steps and decisions, since your main deliverable for this project will be a blog post reporting your findings."
   ]
  },
  {
   "cell_type": "code",
   "execution_count": 4,
   "metadata": {},
   "outputs": [],
   "source": [
    "# import libraries here; add more as necessary\n",
    "import numpy as np\n",
    "import pandas as pd\n",
    "import matplotlib.pyplot as plt\n",
    "import seaborn as sns\n",
    "import pickle\n",
    "import importlib\n",
    "from scipy.stats import skew\n",
    "from scipy import stats\n",
    "\n",
    "from sklearn.pipeline import Pipeline\n",
    "from sklearn.impute import SimpleImputer\n",
    "from sklearn.preprocessing import StandardScaler, FunctionTransformer, OneHotEncoder\n",
    "from sklearn.compose import ColumnTransformer\n",
    "from sklearn.decomposition import PCA\n",
    "from sklearn.cluster import KMeans\n",
    "\n",
    "from imblearn.over_sampling import SMOTE\n",
    "from sklearn.model_selection import KFold, ShuffleSplit, learning_curve,GridSearchCV\n",
    "from sklearn.ensemble import RandomForestClassifier, AdaBoostClassifier, GradientBoostingClassifier, BaggingClassifier\n",
    "from sklearn.metrics import roc_auc_score\n",
    "\n",
    "\n",
    "## Load custom module\n",
    "import functions as fn\n",
    "importlib.reload(fn)\n",
    "\n",
    "\n",
    "# import is_string_dtype, is_numeric_dtype\n",
    "\n",
    "# magic word for producing visualizations in notebook\n",
    "%matplotlib inline"
   ]
  },
  {
   "cell_type": "markdown",
   "metadata": {},
   "source": [
    "## Table of Contents:\n",
    "* [Get to Know the Data](#gettoknowthedata)\n",
    "    * [Missing values](#missingvalues)\n",
    "    * [Data cleaning](#dataclean)\n",
    "    * [Feature engineering](#featureengineering)\n",
    "* [Customer Segmentation Report](#customersegm)\n",
    "    * [Principal Components Analysis](#pca)\n",
    "    * [K-Means](#kmeans)\n",
    "    * [Cluster analysis](#clusteranalysis)\n",
    "* [Supervised Learning Model](#supervisedlearningmodel)\n",
    "    * [Class imbalance](#classimb)\n",
    "    * [Model selection](#modelselection)\n",
    "    * [Hyperparameter tuning](#tuning)\n",
    "* [Conclusion](#conclusion)"
   ]
  },
  {
   "cell_type": "markdown",
   "metadata": {},
   "source": [
    "## Part 0: Get to Know the Data <a class=\"anchor\" id=\"gettoknowthedata\"></a>\n",
    "\n",
    "There are four data files associated with this project:\n",
    "\n",
    "- `Udacity_AZDIAS_052018.csv`: Demographics data for the general population of Germany; 891 211 persons (rows) x 366 features (columns).\n",
    "- `Udacity_CUSTOMERS_052018.csv`: Demographics data for customers of a mail-order company; 191 652 persons (rows) x 369 features (columns).\n",
    "- `Udacity_MAILOUT_052018_TRAIN.csv`: Demographics data for individuals who were targets of a marketing campaign; 42 982 persons (rows) x 367 (columns).\n",
    "- `Udacity_MAILOUT_052018_TEST.csv`: Demographics data for individuals who were targets of a marketing campaign; 42 833 persons (rows) x 366 (columns).\n",
    "\n",
    "Each row of the demographics files represents a single person, but also includes information outside of individuals, including information about their household, building, and neighborhood. Use the information from the first two files to figure out how customers (\"CUSTOMERS\") are similar to or differ from the general population at large (\"AZDIAS\"), then use your analysis to make predictions on the other two files (\"MAILOUT\"), predicting which recipients are most likely to become a customer for the mail-order company.\n",
    "\n",
    "The \"CUSTOMERS\" file contains three extra columns ('CUSTOMER_GROUP', 'ONLINE_PURCHASE', and 'PRODUCT_GROUP'), which provide broad information about the customers depicted in the file. The original \"MAILOUT\" file included one additional column, \"RESPONSE\", which indicated whether or not each recipient became a customer of the company. For the \"TRAIN\" subset, this column has been retained, but in the \"TEST\" subset it has been removed; it is against that withheld column that your final predictions will be assessed in the Kaggle competition.\n",
    "\n",
    "Otherwise, all of the remaining columns are the same between the three data files. For more information about the columns depicted in the files, you can refer to two Excel spreadsheets provided in the workspace. [One of them](./DIAS Information Levels - Attributes 2017.xlsx) is a top-level list of attributes and descriptions, organized by informational category. [The other](./DIAS Attributes - Values 2017.xlsx) is a detailed mapping of data values for each feature in alphabetical order.\n",
    "\n",
    "In the below cell, we've provided some initial code to load in the first two datasets. Note for all of the `.csv` data files in this project that they're semicolon (`;`) delimited, so an additional argument in the [`read_csv()`](https://pandas.pydata.org/pandas-docs/stable/generated/pandas.read_csv.html) call has been included to read in the data properly. Also, considering the size of the datasets, it may take some time for them to load completely.\n",
    "\n",
    "You'll notice when the data is loaded in that a warning message will immediately pop up. Before you really start digging into the modeling and analysis, you're going to need to perform some cleaning. Take some time to browse the structure of the data and look over the informational spreadsheets to understand the data values. Make some decisions on which features to keep, which features to drop, and if any revisions need to be made on data formats. It'll be a good idea to create a function with pre-processing steps, since you'll need to clean all of the datasets before you work with them."
   ]
  },
  {
   "cell_type": "code",
   "execution_count": null,
   "metadata": {},
   "outputs": [],
   "source": [
    "# # load in the data\n",
    "azdias = pd.read_csv('data/Udacity_AZDIAS_052018.csv', sep=';')\n",
    "customers = pd.read_csv('data/Udacity_CUSTOMERS_052018.csv', sep=';')"
   ]
  },
  {
   "cell_type": "markdown",
   "metadata": {},
   "source": [
    "First, we take a look at the general structure of the datasets, the column types and missing values"
   ]
  },
  {
   "cell_type": "code",
   "execution_count": 8,
   "metadata": {},
   "outputs": [
    {
     "name": "stdout",
     "output_type": "stream",
     "text": [
      "The general German information has 891221 rows and 366 columns\n"
     ]
    },
    {
     "data": {
      "text/html": [
       "<div>\n",
       "<style scoped>\n",
       "    .dataframe tbody tr th:only-of-type {\n",
       "        vertical-align: middle;\n",
       "    }\n",
       "\n",
       "    .dataframe tbody tr th {\n",
       "        vertical-align: top;\n",
       "    }\n",
       "\n",
       "    .dataframe thead th {\n",
       "        text-align: right;\n",
       "    }\n",
       "</style>\n",
       "<table border=\"1\" class=\"dataframe\">\n",
       "  <thead>\n",
       "    <tr style=\"text-align: right;\">\n",
       "      <th></th>\n",
       "      <th>LNR</th>\n",
       "      <th>AGER_TYP</th>\n",
       "      <th>AKT_DAT_KL</th>\n",
       "      <th>ALTER_HH</th>\n",
       "      <th>ALTER_KIND1</th>\n",
       "      <th>ALTER_KIND2</th>\n",
       "      <th>ALTER_KIND3</th>\n",
       "      <th>ALTER_KIND4</th>\n",
       "      <th>ALTERSKATEGORIE_FEIN</th>\n",
       "      <th>ANZ_HAUSHALTE_AKTIV</th>\n",
       "      <th>...</th>\n",
       "      <th>VHN</th>\n",
       "      <th>VK_DHT4A</th>\n",
       "      <th>VK_DISTANZ</th>\n",
       "      <th>VK_ZG11</th>\n",
       "      <th>W_KEIT_KIND_HH</th>\n",
       "      <th>WOHNDAUER_2008</th>\n",
       "      <th>WOHNLAGE</th>\n",
       "      <th>ZABEOTYP</th>\n",
       "      <th>ANREDE_KZ</th>\n",
       "      <th>ALTERSKATEGORIE_GROB</th>\n",
       "    </tr>\n",
       "  </thead>\n",
       "  <tbody>\n",
       "    <tr>\n",
       "      <th>0</th>\n",
       "      <td>910215</td>\n",
       "      <td>-1</td>\n",
       "      <td>NaN</td>\n",
       "      <td>NaN</td>\n",
       "      <td>NaN</td>\n",
       "      <td>NaN</td>\n",
       "      <td>NaN</td>\n",
       "      <td>NaN</td>\n",
       "      <td>NaN</td>\n",
       "      <td>NaN</td>\n",
       "      <td>...</td>\n",
       "      <td>NaN</td>\n",
       "      <td>NaN</td>\n",
       "      <td>NaN</td>\n",
       "      <td>NaN</td>\n",
       "      <td>NaN</td>\n",
       "      <td>NaN</td>\n",
       "      <td>NaN</td>\n",
       "      <td>3</td>\n",
       "      <td>1</td>\n",
       "      <td>2</td>\n",
       "    </tr>\n",
       "    <tr>\n",
       "      <th>1</th>\n",
       "      <td>910220</td>\n",
       "      <td>-1</td>\n",
       "      <td>9.0</td>\n",
       "      <td>0.0</td>\n",
       "      <td>NaN</td>\n",
       "      <td>NaN</td>\n",
       "      <td>NaN</td>\n",
       "      <td>NaN</td>\n",
       "      <td>21.0</td>\n",
       "      <td>11.0</td>\n",
       "      <td>...</td>\n",
       "      <td>4.0</td>\n",
       "      <td>8.0</td>\n",
       "      <td>11.0</td>\n",
       "      <td>10.0</td>\n",
       "      <td>3.0</td>\n",
       "      <td>9.0</td>\n",
       "      <td>4.0</td>\n",
       "      <td>5</td>\n",
       "      <td>2</td>\n",
       "      <td>1</td>\n",
       "    </tr>\n",
       "    <tr>\n",
       "      <th>2</th>\n",
       "      <td>910225</td>\n",
       "      <td>-1</td>\n",
       "      <td>9.0</td>\n",
       "      <td>17.0</td>\n",
       "      <td>NaN</td>\n",
       "      <td>NaN</td>\n",
       "      <td>NaN</td>\n",
       "      <td>NaN</td>\n",
       "      <td>17.0</td>\n",
       "      <td>10.0</td>\n",
       "      <td>...</td>\n",
       "      <td>2.0</td>\n",
       "      <td>9.0</td>\n",
       "      <td>9.0</td>\n",
       "      <td>6.0</td>\n",
       "      <td>3.0</td>\n",
       "      <td>9.0</td>\n",
       "      <td>2.0</td>\n",
       "      <td>5</td>\n",
       "      <td>2</td>\n",
       "      <td>3</td>\n",
       "    </tr>\n",
       "    <tr>\n",
       "      <th>3</th>\n",
       "      <td>910226</td>\n",
       "      <td>2</td>\n",
       "      <td>1.0</td>\n",
       "      <td>13.0</td>\n",
       "      <td>NaN</td>\n",
       "      <td>NaN</td>\n",
       "      <td>NaN</td>\n",
       "      <td>NaN</td>\n",
       "      <td>13.0</td>\n",
       "      <td>1.0</td>\n",
       "      <td>...</td>\n",
       "      <td>0.0</td>\n",
       "      <td>7.0</td>\n",
       "      <td>10.0</td>\n",
       "      <td>11.0</td>\n",
       "      <td>NaN</td>\n",
       "      <td>9.0</td>\n",
       "      <td>7.0</td>\n",
       "      <td>3</td>\n",
       "      <td>2</td>\n",
       "      <td>4</td>\n",
       "    </tr>\n",
       "    <tr>\n",
       "      <th>4</th>\n",
       "      <td>910241</td>\n",
       "      <td>-1</td>\n",
       "      <td>1.0</td>\n",
       "      <td>20.0</td>\n",
       "      <td>NaN</td>\n",
       "      <td>NaN</td>\n",
       "      <td>NaN</td>\n",
       "      <td>NaN</td>\n",
       "      <td>14.0</td>\n",
       "      <td>3.0</td>\n",
       "      <td>...</td>\n",
       "      <td>2.0</td>\n",
       "      <td>3.0</td>\n",
       "      <td>5.0</td>\n",
       "      <td>4.0</td>\n",
       "      <td>2.0</td>\n",
       "      <td>9.0</td>\n",
       "      <td>3.0</td>\n",
       "      <td>4</td>\n",
       "      <td>1</td>\n",
       "      <td>3</td>\n",
       "    </tr>\n",
       "  </tbody>\n",
       "</table>\n",
       "<p>5 rows × 366 columns</p>\n",
       "</div>"
      ],
      "text/plain": [
       "      LNR  AGER_TYP  AKT_DAT_KL  ALTER_HH  ALTER_KIND1  ALTER_KIND2  \\\n",
       "0  910215        -1         NaN       NaN          NaN          NaN   \n",
       "1  910220        -1         9.0       0.0          NaN          NaN   \n",
       "2  910225        -1         9.0      17.0          NaN          NaN   \n",
       "3  910226         2         1.0      13.0          NaN          NaN   \n",
       "4  910241        -1         1.0      20.0          NaN          NaN   \n",
       "\n",
       "   ALTER_KIND3  ALTER_KIND4  ALTERSKATEGORIE_FEIN  ANZ_HAUSHALTE_AKTIV  ...  \\\n",
       "0          NaN          NaN                   NaN                  NaN  ...   \n",
       "1          NaN          NaN                  21.0                 11.0  ...   \n",
       "2          NaN          NaN                  17.0                 10.0  ...   \n",
       "3          NaN          NaN                  13.0                  1.0  ...   \n",
       "4          NaN          NaN                  14.0                  3.0  ...   \n",
       "\n",
       "   VHN  VK_DHT4A  VK_DISTANZ  VK_ZG11  W_KEIT_KIND_HH  WOHNDAUER_2008  \\\n",
       "0  NaN       NaN         NaN      NaN             NaN             NaN   \n",
       "1  4.0       8.0        11.0     10.0             3.0             9.0   \n",
       "2  2.0       9.0         9.0      6.0             3.0             9.0   \n",
       "3  0.0       7.0        10.0     11.0             NaN             9.0   \n",
       "4  2.0       3.0         5.0      4.0             2.0             9.0   \n",
       "\n",
       "   WOHNLAGE ZABEOTYP ANREDE_KZ ALTERSKATEGORIE_GROB  \n",
       "0       NaN        3         1                    2  \n",
       "1       4.0        5         2                    1  \n",
       "2       2.0        5         2                    3  \n",
       "3       7.0        3         2                    4  \n",
       "4       3.0        4         1                    3  \n",
       "\n",
       "[5 rows x 366 columns]"
      ]
     },
     "execution_count": 8,
     "metadata": {},
     "output_type": "execute_result"
    }
   ],
   "source": [
    "### azdias dataset\n",
    "\n",
    "print(\"The general German information has {} rows and {} columns\".format(azdias.shape[0], azdias.shape[1]))\n",
    "azdias.head()"
   ]
  },
  {
   "cell_type": "code",
   "execution_count": 9,
   "metadata": {},
   "outputs": [
    {
     "data": {
      "text/html": [
       "<div>\n",
       "<style scoped>\n",
       "    .dataframe tbody tr th:only-of-type {\n",
       "        vertical-align: middle;\n",
       "    }\n",
       "\n",
       "    .dataframe tbody tr th {\n",
       "        vertical-align: top;\n",
       "    }\n",
       "\n",
       "    .dataframe thead th {\n",
       "        text-align: right;\n",
       "    }\n",
       "</style>\n",
       "<table border=\"1\" class=\"dataframe\">\n",
       "  <thead>\n",
       "    <tr style=\"text-align: right;\">\n",
       "      <th></th>\n",
       "      <th>LNR</th>\n",
       "      <th>AGER_TYP</th>\n",
       "      <th>AKT_DAT_KL</th>\n",
       "      <th>ALTER_HH</th>\n",
       "      <th>ALTER_KIND1</th>\n",
       "      <th>ALTER_KIND2</th>\n",
       "      <th>ALTER_KIND3</th>\n",
       "      <th>ALTER_KIND4</th>\n",
       "      <th>ALTERSKATEGORIE_FEIN</th>\n",
       "      <th>ANZ_HAUSHALTE_AKTIV</th>\n",
       "      <th>...</th>\n",
       "      <th>VHN</th>\n",
       "      <th>VK_DHT4A</th>\n",
       "      <th>VK_DISTANZ</th>\n",
       "      <th>VK_ZG11</th>\n",
       "      <th>W_KEIT_KIND_HH</th>\n",
       "      <th>WOHNDAUER_2008</th>\n",
       "      <th>WOHNLAGE</th>\n",
       "      <th>ZABEOTYP</th>\n",
       "      <th>ANREDE_KZ</th>\n",
       "      <th>ALTERSKATEGORIE_GROB</th>\n",
       "    </tr>\n",
       "  </thead>\n",
       "  <tbody>\n",
       "    <tr>\n",
       "      <th>count</th>\n",
       "      <td>8.912210e+05</td>\n",
       "      <td>891221.000000</td>\n",
       "      <td>817722.000000</td>\n",
       "      <td>817722.000000</td>\n",
       "      <td>81058.000000</td>\n",
       "      <td>29499.000000</td>\n",
       "      <td>6170.000000</td>\n",
       "      <td>1205.000000</td>\n",
       "      <td>628274.000000</td>\n",
       "      <td>798073.000000</td>\n",
       "      <td>...</td>\n",
       "      <td>770025.000000</td>\n",
       "      <td>815304.000000</td>\n",
       "      <td>815304.000000</td>\n",
       "      <td>815304.000000</td>\n",
       "      <td>783619.000000</td>\n",
       "      <td>817722.000000</td>\n",
       "      <td>798073.000000</td>\n",
       "      <td>891221.000000</td>\n",
       "      <td>891221.000000</td>\n",
       "      <td>891221.000000</td>\n",
       "    </tr>\n",
       "    <tr>\n",
       "      <th>unique</th>\n",
       "      <td>NaN</td>\n",
       "      <td>NaN</td>\n",
       "      <td>NaN</td>\n",
       "      <td>NaN</td>\n",
       "      <td>NaN</td>\n",
       "      <td>NaN</td>\n",
       "      <td>NaN</td>\n",
       "      <td>NaN</td>\n",
       "      <td>NaN</td>\n",
       "      <td>NaN</td>\n",
       "      <td>...</td>\n",
       "      <td>NaN</td>\n",
       "      <td>NaN</td>\n",
       "      <td>NaN</td>\n",
       "      <td>NaN</td>\n",
       "      <td>NaN</td>\n",
       "      <td>NaN</td>\n",
       "      <td>NaN</td>\n",
       "      <td>NaN</td>\n",
       "      <td>NaN</td>\n",
       "      <td>NaN</td>\n",
       "    </tr>\n",
       "    <tr>\n",
       "      <th>top</th>\n",
       "      <td>NaN</td>\n",
       "      <td>NaN</td>\n",
       "      <td>NaN</td>\n",
       "      <td>NaN</td>\n",
       "      <td>NaN</td>\n",
       "      <td>NaN</td>\n",
       "      <td>NaN</td>\n",
       "      <td>NaN</td>\n",
       "      <td>NaN</td>\n",
       "      <td>NaN</td>\n",
       "      <td>...</td>\n",
       "      <td>NaN</td>\n",
       "      <td>NaN</td>\n",
       "      <td>NaN</td>\n",
       "      <td>NaN</td>\n",
       "      <td>NaN</td>\n",
       "      <td>NaN</td>\n",
       "      <td>NaN</td>\n",
       "      <td>NaN</td>\n",
       "      <td>NaN</td>\n",
       "      <td>NaN</td>\n",
       "    </tr>\n",
       "    <tr>\n",
       "      <th>freq</th>\n",
       "      <td>NaN</td>\n",
       "      <td>NaN</td>\n",
       "      <td>NaN</td>\n",
       "      <td>NaN</td>\n",
       "      <td>NaN</td>\n",
       "      <td>NaN</td>\n",
       "      <td>NaN</td>\n",
       "      <td>NaN</td>\n",
       "      <td>NaN</td>\n",
       "      <td>NaN</td>\n",
       "      <td>...</td>\n",
       "      <td>NaN</td>\n",
       "      <td>NaN</td>\n",
       "      <td>NaN</td>\n",
       "      <td>NaN</td>\n",
       "      <td>NaN</td>\n",
       "      <td>NaN</td>\n",
       "      <td>NaN</td>\n",
       "      <td>NaN</td>\n",
       "      <td>NaN</td>\n",
       "      <td>NaN</td>\n",
       "    </tr>\n",
       "    <tr>\n",
       "      <th>mean</th>\n",
       "      <td>6.372630e+05</td>\n",
       "      <td>-0.358435</td>\n",
       "      <td>4.421928</td>\n",
       "      <td>10.864126</td>\n",
       "      <td>11.745392</td>\n",
       "      <td>13.402658</td>\n",
       "      <td>14.476013</td>\n",
       "      <td>15.089627</td>\n",
       "      <td>13.700717</td>\n",
       "      <td>8.287263</td>\n",
       "      <td>...</td>\n",
       "      <td>2.417322</td>\n",
       "      <td>6.001214</td>\n",
       "      <td>7.532130</td>\n",
       "      <td>5.945972</td>\n",
       "      <td>3.933406</td>\n",
       "      <td>7.908791</td>\n",
       "      <td>4.052836</td>\n",
       "      <td>3.362438</td>\n",
       "      <td>1.522098</td>\n",
       "      <td>2.777398</td>\n",
       "    </tr>\n",
       "    <tr>\n",
       "      <th>std</th>\n",
       "      <td>2.572735e+05</td>\n",
       "      <td>1.198724</td>\n",
       "      <td>3.638805</td>\n",
       "      <td>7.639683</td>\n",
       "      <td>4.097660</td>\n",
       "      <td>3.243300</td>\n",
       "      <td>2.712427</td>\n",
       "      <td>2.452932</td>\n",
       "      <td>5.079849</td>\n",
       "      <td>15.628087</td>\n",
       "      <td>...</td>\n",
       "      <td>1.166572</td>\n",
       "      <td>2.856091</td>\n",
       "      <td>3.247789</td>\n",
       "      <td>2.771464</td>\n",
       "      <td>1.964701</td>\n",
       "      <td>1.923137</td>\n",
       "      <td>1.949539</td>\n",
       "      <td>1.352704</td>\n",
       "      <td>0.499512</td>\n",
       "      <td>1.068775</td>\n",
       "    </tr>\n",
       "    <tr>\n",
       "      <th>min</th>\n",
       "      <td>1.916530e+05</td>\n",
       "      <td>-1.000000</td>\n",
       "      <td>1.000000</td>\n",
       "      <td>0.000000</td>\n",
       "      <td>2.000000</td>\n",
       "      <td>2.000000</td>\n",
       "      <td>4.000000</td>\n",
       "      <td>7.000000</td>\n",
       "      <td>0.000000</td>\n",
       "      <td>0.000000</td>\n",
       "      <td>...</td>\n",
       "      <td>0.000000</td>\n",
       "      <td>1.000000</td>\n",
       "      <td>1.000000</td>\n",
       "      <td>1.000000</td>\n",
       "      <td>0.000000</td>\n",
       "      <td>1.000000</td>\n",
       "      <td>0.000000</td>\n",
       "      <td>1.000000</td>\n",
       "      <td>1.000000</td>\n",
       "      <td>1.000000</td>\n",
       "    </tr>\n",
       "    <tr>\n",
       "      <th>25%</th>\n",
       "      <td>4.144580e+05</td>\n",
       "      <td>-1.000000</td>\n",
       "      <td>1.000000</td>\n",
       "      <td>0.000000</td>\n",
       "      <td>8.000000</td>\n",
       "      <td>11.000000</td>\n",
       "      <td>13.000000</td>\n",
       "      <td>14.000000</td>\n",
       "      <td>11.000000</td>\n",
       "      <td>1.000000</td>\n",
       "      <td>...</td>\n",
       "      <td>2.000000</td>\n",
       "      <td>3.000000</td>\n",
       "      <td>5.000000</td>\n",
       "      <td>4.000000</td>\n",
       "      <td>2.000000</td>\n",
       "      <td>8.000000</td>\n",
       "      <td>3.000000</td>\n",
       "      <td>3.000000</td>\n",
       "      <td>1.000000</td>\n",
       "      <td>2.000000</td>\n",
       "    </tr>\n",
       "    <tr>\n",
       "      <th>50%</th>\n",
       "      <td>6.372630e+05</td>\n",
       "      <td>-1.000000</td>\n",
       "      <td>3.000000</td>\n",
       "      <td>13.000000</td>\n",
       "      <td>12.000000</td>\n",
       "      <td>14.000000</td>\n",
       "      <td>15.000000</td>\n",
       "      <td>15.000000</td>\n",
       "      <td>14.000000</td>\n",
       "      <td>4.000000</td>\n",
       "      <td>...</td>\n",
       "      <td>2.000000</td>\n",
       "      <td>6.000000</td>\n",
       "      <td>8.000000</td>\n",
       "      <td>6.000000</td>\n",
       "      <td>4.000000</td>\n",
       "      <td>9.000000</td>\n",
       "      <td>3.000000</td>\n",
       "      <td>3.000000</td>\n",
       "      <td>2.000000</td>\n",
       "      <td>3.000000</td>\n",
       "    </tr>\n",
       "    <tr>\n",
       "      <th>75%</th>\n",
       "      <td>8.600680e+05</td>\n",
       "      <td>-1.000000</td>\n",
       "      <td>9.000000</td>\n",
       "      <td>17.000000</td>\n",
       "      <td>15.000000</td>\n",
       "      <td>16.000000</td>\n",
       "      <td>17.000000</td>\n",
       "      <td>17.000000</td>\n",
       "      <td>17.000000</td>\n",
       "      <td>9.000000</td>\n",
       "      <td>...</td>\n",
       "      <td>3.000000</td>\n",
       "      <td>9.000000</td>\n",
       "      <td>10.000000</td>\n",
       "      <td>8.000000</td>\n",
       "      <td>6.000000</td>\n",
       "      <td>9.000000</td>\n",
       "      <td>5.000000</td>\n",
       "      <td>4.000000</td>\n",
       "      <td>2.000000</td>\n",
       "      <td>4.000000</td>\n",
       "    </tr>\n",
       "    <tr>\n",
       "      <th>max</th>\n",
       "      <td>1.082873e+06</td>\n",
       "      <td>3.000000</td>\n",
       "      <td>9.000000</td>\n",
       "      <td>21.000000</td>\n",
       "      <td>18.000000</td>\n",
       "      <td>18.000000</td>\n",
       "      <td>18.000000</td>\n",
       "      <td>18.000000</td>\n",
       "      <td>25.000000</td>\n",
       "      <td>595.000000</td>\n",
       "      <td>...</td>\n",
       "      <td>4.000000</td>\n",
       "      <td>11.000000</td>\n",
       "      <td>13.000000</td>\n",
       "      <td>11.000000</td>\n",
       "      <td>6.000000</td>\n",
       "      <td>9.000000</td>\n",
       "      <td>8.000000</td>\n",
       "      <td>6.000000</td>\n",
       "      <td>2.000000</td>\n",
       "      <td>9.000000</td>\n",
       "    </tr>\n",
       "  </tbody>\n",
       "</table>\n",
       "<p>11 rows × 366 columns</p>\n",
       "</div>"
      ],
      "text/plain": [
       "                 LNR       AGER_TYP     AKT_DAT_KL       ALTER_HH  \\\n",
       "count   8.912210e+05  891221.000000  817722.000000  817722.000000   \n",
       "unique           NaN            NaN            NaN            NaN   \n",
       "top              NaN            NaN            NaN            NaN   \n",
       "freq             NaN            NaN            NaN            NaN   \n",
       "mean    6.372630e+05      -0.358435       4.421928      10.864126   \n",
       "std     2.572735e+05       1.198724       3.638805       7.639683   \n",
       "min     1.916530e+05      -1.000000       1.000000       0.000000   \n",
       "25%     4.144580e+05      -1.000000       1.000000       0.000000   \n",
       "50%     6.372630e+05      -1.000000       3.000000      13.000000   \n",
       "75%     8.600680e+05      -1.000000       9.000000      17.000000   \n",
       "max     1.082873e+06       3.000000       9.000000      21.000000   \n",
       "\n",
       "         ALTER_KIND1   ALTER_KIND2  ALTER_KIND3  ALTER_KIND4  \\\n",
       "count   81058.000000  29499.000000  6170.000000  1205.000000   \n",
       "unique           NaN           NaN          NaN          NaN   \n",
       "top              NaN           NaN          NaN          NaN   \n",
       "freq             NaN           NaN          NaN          NaN   \n",
       "mean       11.745392     13.402658    14.476013    15.089627   \n",
       "std         4.097660      3.243300     2.712427     2.452932   \n",
       "min         2.000000      2.000000     4.000000     7.000000   \n",
       "25%         8.000000     11.000000    13.000000    14.000000   \n",
       "50%        12.000000     14.000000    15.000000    15.000000   \n",
       "75%        15.000000     16.000000    17.000000    17.000000   \n",
       "max        18.000000     18.000000    18.000000    18.000000   \n",
       "\n",
       "        ALTERSKATEGORIE_FEIN  ANZ_HAUSHALTE_AKTIV  ...            VHN  \\\n",
       "count          628274.000000        798073.000000  ...  770025.000000   \n",
       "unique                   NaN                  NaN  ...            NaN   \n",
       "top                      NaN                  NaN  ...            NaN   \n",
       "freq                     NaN                  NaN  ...            NaN   \n",
       "mean               13.700717             8.287263  ...       2.417322   \n",
       "std                 5.079849            15.628087  ...       1.166572   \n",
       "min                 0.000000             0.000000  ...       0.000000   \n",
       "25%                11.000000             1.000000  ...       2.000000   \n",
       "50%                14.000000             4.000000  ...       2.000000   \n",
       "75%                17.000000             9.000000  ...       3.000000   \n",
       "max                25.000000           595.000000  ...       4.000000   \n",
       "\n",
       "             VK_DHT4A     VK_DISTANZ        VK_ZG11  W_KEIT_KIND_HH  \\\n",
       "count   815304.000000  815304.000000  815304.000000   783619.000000   \n",
       "unique            NaN            NaN            NaN             NaN   \n",
       "top               NaN            NaN            NaN             NaN   \n",
       "freq              NaN            NaN            NaN             NaN   \n",
       "mean         6.001214       7.532130       5.945972        3.933406   \n",
       "std          2.856091       3.247789       2.771464        1.964701   \n",
       "min          1.000000       1.000000       1.000000        0.000000   \n",
       "25%          3.000000       5.000000       4.000000        2.000000   \n",
       "50%          6.000000       8.000000       6.000000        4.000000   \n",
       "75%          9.000000      10.000000       8.000000        6.000000   \n",
       "max         11.000000      13.000000      11.000000        6.000000   \n",
       "\n",
       "        WOHNDAUER_2008       WOHNLAGE       ZABEOTYP      ANREDE_KZ  \\\n",
       "count    817722.000000  798073.000000  891221.000000  891221.000000   \n",
       "unique             NaN            NaN            NaN            NaN   \n",
       "top                NaN            NaN            NaN            NaN   \n",
       "freq               NaN            NaN            NaN            NaN   \n",
       "mean          7.908791       4.052836       3.362438       1.522098   \n",
       "std           1.923137       1.949539       1.352704       0.499512   \n",
       "min           1.000000       0.000000       1.000000       1.000000   \n",
       "25%           8.000000       3.000000       3.000000       1.000000   \n",
       "50%           9.000000       3.000000       3.000000       2.000000   \n",
       "75%           9.000000       5.000000       4.000000       2.000000   \n",
       "max           9.000000       8.000000       6.000000       2.000000   \n",
       "\n",
       "       ALTERSKATEGORIE_GROB  \n",
       "count         891221.000000  \n",
       "unique                  NaN  \n",
       "top                     NaN  \n",
       "freq                    NaN  \n",
       "mean               2.777398  \n",
       "std                1.068775  \n",
       "min                1.000000  \n",
       "25%                2.000000  \n",
       "50%                3.000000  \n",
       "75%                4.000000  \n",
       "max                9.000000  \n",
       "\n",
       "[11 rows x 366 columns]"
      ]
     },
     "execution_count": 9,
     "metadata": {},
     "output_type": "execute_result"
    }
   ],
   "source": [
    "azdias.describe(include = 'all')"
   ]
  },
  {
   "cell_type": "code",
   "execution_count": 10,
   "metadata": {},
   "outputs": [
    {
     "name": "stdout",
     "output_type": "stream",
     "text": [
      "The customer information has 191652 rows and 369 columns\n"
     ]
    },
    {
     "data": {
      "text/html": [
       "<div>\n",
       "<style scoped>\n",
       "    .dataframe tbody tr th:only-of-type {\n",
       "        vertical-align: middle;\n",
       "    }\n",
       "\n",
       "    .dataframe tbody tr th {\n",
       "        vertical-align: top;\n",
       "    }\n",
       "\n",
       "    .dataframe thead th {\n",
       "        text-align: right;\n",
       "    }\n",
       "</style>\n",
       "<table border=\"1\" class=\"dataframe\">\n",
       "  <thead>\n",
       "    <tr style=\"text-align: right;\">\n",
       "      <th></th>\n",
       "      <th>LNR</th>\n",
       "      <th>AGER_TYP</th>\n",
       "      <th>AKT_DAT_KL</th>\n",
       "      <th>ALTER_HH</th>\n",
       "      <th>ALTER_KIND1</th>\n",
       "      <th>ALTER_KIND2</th>\n",
       "      <th>ALTER_KIND3</th>\n",
       "      <th>ALTER_KIND4</th>\n",
       "      <th>ALTERSKATEGORIE_FEIN</th>\n",
       "      <th>ANZ_HAUSHALTE_AKTIV</th>\n",
       "      <th>...</th>\n",
       "      <th>VK_ZG11</th>\n",
       "      <th>W_KEIT_KIND_HH</th>\n",
       "      <th>WOHNDAUER_2008</th>\n",
       "      <th>WOHNLAGE</th>\n",
       "      <th>ZABEOTYP</th>\n",
       "      <th>PRODUCT_GROUP</th>\n",
       "      <th>CUSTOMER_GROUP</th>\n",
       "      <th>ONLINE_PURCHASE</th>\n",
       "      <th>ANREDE_KZ</th>\n",
       "      <th>ALTERSKATEGORIE_GROB</th>\n",
       "    </tr>\n",
       "  </thead>\n",
       "  <tbody>\n",
       "    <tr>\n",
       "      <th>0</th>\n",
       "      <td>9626</td>\n",
       "      <td>2</td>\n",
       "      <td>1.0</td>\n",
       "      <td>10.0</td>\n",
       "      <td>NaN</td>\n",
       "      <td>NaN</td>\n",
       "      <td>NaN</td>\n",
       "      <td>NaN</td>\n",
       "      <td>10.0</td>\n",
       "      <td>1.0</td>\n",
       "      <td>...</td>\n",
       "      <td>2.0</td>\n",
       "      <td>6.0</td>\n",
       "      <td>9.0</td>\n",
       "      <td>7.0</td>\n",
       "      <td>3</td>\n",
       "      <td>COSMETIC_AND_FOOD</td>\n",
       "      <td>MULTI_BUYER</td>\n",
       "      <td>0</td>\n",
       "      <td>1</td>\n",
       "      <td>4</td>\n",
       "    </tr>\n",
       "    <tr>\n",
       "      <th>1</th>\n",
       "      <td>9628</td>\n",
       "      <td>-1</td>\n",
       "      <td>9.0</td>\n",
       "      <td>11.0</td>\n",
       "      <td>NaN</td>\n",
       "      <td>NaN</td>\n",
       "      <td>NaN</td>\n",
       "      <td>NaN</td>\n",
       "      <td>NaN</td>\n",
       "      <td>NaN</td>\n",
       "      <td>...</td>\n",
       "      <td>3.0</td>\n",
       "      <td>0.0</td>\n",
       "      <td>9.0</td>\n",
       "      <td>NaN</td>\n",
       "      <td>3</td>\n",
       "      <td>FOOD</td>\n",
       "      <td>SINGLE_BUYER</td>\n",
       "      <td>0</td>\n",
       "      <td>1</td>\n",
       "      <td>4</td>\n",
       "    </tr>\n",
       "    <tr>\n",
       "      <th>2</th>\n",
       "      <td>143872</td>\n",
       "      <td>-1</td>\n",
       "      <td>1.0</td>\n",
       "      <td>6.0</td>\n",
       "      <td>NaN</td>\n",
       "      <td>NaN</td>\n",
       "      <td>NaN</td>\n",
       "      <td>NaN</td>\n",
       "      <td>0.0</td>\n",
       "      <td>1.0</td>\n",
       "      <td>...</td>\n",
       "      <td>11.0</td>\n",
       "      <td>6.0</td>\n",
       "      <td>9.0</td>\n",
       "      <td>2.0</td>\n",
       "      <td>3</td>\n",
       "      <td>COSMETIC_AND_FOOD</td>\n",
       "      <td>MULTI_BUYER</td>\n",
       "      <td>0</td>\n",
       "      <td>2</td>\n",
       "      <td>4</td>\n",
       "    </tr>\n",
       "    <tr>\n",
       "      <th>3</th>\n",
       "      <td>143873</td>\n",
       "      <td>1</td>\n",
       "      <td>1.0</td>\n",
       "      <td>8.0</td>\n",
       "      <td>NaN</td>\n",
       "      <td>NaN</td>\n",
       "      <td>NaN</td>\n",
       "      <td>NaN</td>\n",
       "      <td>8.0</td>\n",
       "      <td>0.0</td>\n",
       "      <td>...</td>\n",
       "      <td>2.0</td>\n",
       "      <td>NaN</td>\n",
       "      <td>9.0</td>\n",
       "      <td>7.0</td>\n",
       "      <td>1</td>\n",
       "      <td>COSMETIC</td>\n",
       "      <td>MULTI_BUYER</td>\n",
       "      <td>0</td>\n",
       "      <td>1</td>\n",
       "      <td>4</td>\n",
       "    </tr>\n",
       "    <tr>\n",
       "      <th>4</th>\n",
       "      <td>143874</td>\n",
       "      <td>-1</td>\n",
       "      <td>1.0</td>\n",
       "      <td>20.0</td>\n",
       "      <td>NaN</td>\n",
       "      <td>NaN</td>\n",
       "      <td>NaN</td>\n",
       "      <td>NaN</td>\n",
       "      <td>14.0</td>\n",
       "      <td>7.0</td>\n",
       "      <td>...</td>\n",
       "      <td>4.0</td>\n",
       "      <td>2.0</td>\n",
       "      <td>9.0</td>\n",
       "      <td>3.0</td>\n",
       "      <td>1</td>\n",
       "      <td>FOOD</td>\n",
       "      <td>MULTI_BUYER</td>\n",
       "      <td>0</td>\n",
       "      <td>1</td>\n",
       "      <td>3</td>\n",
       "    </tr>\n",
       "  </tbody>\n",
       "</table>\n",
       "<p>5 rows × 369 columns</p>\n",
       "</div>"
      ],
      "text/plain": [
       "      LNR  AGER_TYP  AKT_DAT_KL  ALTER_HH  ALTER_KIND1  ALTER_KIND2  \\\n",
       "0    9626         2         1.0      10.0          NaN          NaN   \n",
       "1    9628        -1         9.0      11.0          NaN          NaN   \n",
       "2  143872        -1         1.0       6.0          NaN          NaN   \n",
       "3  143873         1         1.0       8.0          NaN          NaN   \n",
       "4  143874        -1         1.0      20.0          NaN          NaN   \n",
       "\n",
       "   ALTER_KIND3  ALTER_KIND4  ALTERSKATEGORIE_FEIN  ANZ_HAUSHALTE_AKTIV  ...  \\\n",
       "0          NaN          NaN                  10.0                  1.0  ...   \n",
       "1          NaN          NaN                   NaN                  NaN  ...   \n",
       "2          NaN          NaN                   0.0                  1.0  ...   \n",
       "3          NaN          NaN                   8.0                  0.0  ...   \n",
       "4          NaN          NaN                  14.0                  7.0  ...   \n",
       "\n",
       "   VK_ZG11  W_KEIT_KIND_HH  WOHNDAUER_2008  WOHNLAGE  ZABEOTYP  \\\n",
       "0      2.0             6.0             9.0       7.0         3   \n",
       "1      3.0             0.0             9.0       NaN         3   \n",
       "2     11.0             6.0             9.0       2.0         3   \n",
       "3      2.0             NaN             9.0       7.0         1   \n",
       "4      4.0             2.0             9.0       3.0         1   \n",
       "\n",
       "       PRODUCT_GROUP  CUSTOMER_GROUP ONLINE_PURCHASE ANREDE_KZ  \\\n",
       "0  COSMETIC_AND_FOOD     MULTI_BUYER               0         1   \n",
       "1               FOOD    SINGLE_BUYER               0         1   \n",
       "2  COSMETIC_AND_FOOD     MULTI_BUYER               0         2   \n",
       "3           COSMETIC     MULTI_BUYER               0         1   \n",
       "4               FOOD     MULTI_BUYER               0         1   \n",
       "\n",
       "  ALTERSKATEGORIE_GROB  \n",
       "0                    4  \n",
       "1                    4  \n",
       "2                    4  \n",
       "3                    4  \n",
       "4                    3  \n",
       "\n",
       "[5 rows x 369 columns]"
      ]
     },
     "execution_count": 10,
     "metadata": {},
     "output_type": "execute_result"
    }
   ],
   "source": [
    "### azdias dataset\n",
    "\n",
    "print(\"The customer information has {} rows and {} columns\".format(customers.shape[0], customers.shape[1]))\n",
    "customers.head()\n",
    "\n"
   ]
  },
  {
   "cell_type": "code",
   "execution_count": 11,
   "metadata": {},
   "outputs": [
    {
     "data": {
      "text/html": [
       "<div>\n",
       "<style scoped>\n",
       "    .dataframe tbody tr th:only-of-type {\n",
       "        vertical-align: middle;\n",
       "    }\n",
       "\n",
       "    .dataframe tbody tr th {\n",
       "        vertical-align: top;\n",
       "    }\n",
       "\n",
       "    .dataframe thead th {\n",
       "        text-align: right;\n",
       "    }\n",
       "</style>\n",
       "<table border=\"1\" class=\"dataframe\">\n",
       "  <thead>\n",
       "    <tr style=\"text-align: right;\">\n",
       "      <th></th>\n",
       "      <th>LNR</th>\n",
       "      <th>AGER_TYP</th>\n",
       "      <th>AKT_DAT_KL</th>\n",
       "      <th>ALTER_HH</th>\n",
       "      <th>ALTER_KIND1</th>\n",
       "      <th>ALTER_KIND2</th>\n",
       "      <th>ALTER_KIND3</th>\n",
       "      <th>ALTER_KIND4</th>\n",
       "      <th>ALTERSKATEGORIE_FEIN</th>\n",
       "      <th>ANZ_HAUSHALTE_AKTIV</th>\n",
       "      <th>...</th>\n",
       "      <th>VK_ZG11</th>\n",
       "      <th>W_KEIT_KIND_HH</th>\n",
       "      <th>WOHNDAUER_2008</th>\n",
       "      <th>WOHNLAGE</th>\n",
       "      <th>ZABEOTYP</th>\n",
       "      <th>PRODUCT_GROUP</th>\n",
       "      <th>CUSTOMER_GROUP</th>\n",
       "      <th>ONLINE_PURCHASE</th>\n",
       "      <th>ANREDE_KZ</th>\n",
       "      <th>ALTERSKATEGORIE_GROB</th>\n",
       "    </tr>\n",
       "  </thead>\n",
       "  <tbody>\n",
       "    <tr>\n",
       "      <th>count</th>\n",
       "      <td>191652.000000</td>\n",
       "      <td>191652.000000</td>\n",
       "      <td>145056.000000</td>\n",
       "      <td>145056.000000</td>\n",
       "      <td>11766.000000</td>\n",
       "      <td>5100.000000</td>\n",
       "      <td>1275.000000</td>\n",
       "      <td>236.000000</td>\n",
       "      <td>139810.000000</td>\n",
       "      <td>141725.000000</td>\n",
       "      <td>...</td>\n",
       "      <td>143781.000000</td>\n",
       "      <td>137910.000000</td>\n",
       "      <td>145056.000000</td>\n",
       "      <td>141725.000000</td>\n",
       "      <td>191652.000000</td>\n",
       "      <td>191652</td>\n",
       "      <td>191652</td>\n",
       "      <td>191652.000000</td>\n",
       "      <td>191652.000000</td>\n",
       "      <td>191652.000000</td>\n",
       "    </tr>\n",
       "    <tr>\n",
       "      <th>unique</th>\n",
       "      <td>NaN</td>\n",
       "      <td>NaN</td>\n",
       "      <td>NaN</td>\n",
       "      <td>NaN</td>\n",
       "      <td>NaN</td>\n",
       "      <td>NaN</td>\n",
       "      <td>NaN</td>\n",
       "      <td>NaN</td>\n",
       "      <td>NaN</td>\n",
       "      <td>NaN</td>\n",
       "      <td>...</td>\n",
       "      <td>NaN</td>\n",
       "      <td>NaN</td>\n",
       "      <td>NaN</td>\n",
       "      <td>NaN</td>\n",
       "      <td>NaN</td>\n",
       "      <td>3</td>\n",
       "      <td>2</td>\n",
       "      <td>NaN</td>\n",
       "      <td>NaN</td>\n",
       "      <td>NaN</td>\n",
       "    </tr>\n",
       "    <tr>\n",
       "      <th>top</th>\n",
       "      <td>NaN</td>\n",
       "      <td>NaN</td>\n",
       "      <td>NaN</td>\n",
       "      <td>NaN</td>\n",
       "      <td>NaN</td>\n",
       "      <td>NaN</td>\n",
       "      <td>NaN</td>\n",
       "      <td>NaN</td>\n",
       "      <td>NaN</td>\n",
       "      <td>NaN</td>\n",
       "      <td>...</td>\n",
       "      <td>NaN</td>\n",
       "      <td>NaN</td>\n",
       "      <td>NaN</td>\n",
       "      <td>NaN</td>\n",
       "      <td>NaN</td>\n",
       "      <td>COSMETIC_AND_FOOD</td>\n",
       "      <td>MULTI_BUYER</td>\n",
       "      <td>NaN</td>\n",
       "      <td>NaN</td>\n",
       "      <td>NaN</td>\n",
       "    </tr>\n",
       "    <tr>\n",
       "      <th>freq</th>\n",
       "      <td>NaN</td>\n",
       "      <td>NaN</td>\n",
       "      <td>NaN</td>\n",
       "      <td>NaN</td>\n",
       "      <td>NaN</td>\n",
       "      <td>NaN</td>\n",
       "      <td>NaN</td>\n",
       "      <td>NaN</td>\n",
       "      <td>NaN</td>\n",
       "      <td>NaN</td>\n",
       "      <td>...</td>\n",
       "      <td>NaN</td>\n",
       "      <td>NaN</td>\n",
       "      <td>NaN</td>\n",
       "      <td>NaN</td>\n",
       "      <td>NaN</td>\n",
       "      <td>100860</td>\n",
       "      <td>132238</td>\n",
       "      <td>NaN</td>\n",
       "      <td>NaN</td>\n",
       "      <td>NaN</td>\n",
       "    </tr>\n",
       "    <tr>\n",
       "      <th>mean</th>\n",
       "      <td>95826.500000</td>\n",
       "      <td>0.344359</td>\n",
       "      <td>1.747525</td>\n",
       "      <td>11.352009</td>\n",
       "      <td>12.337243</td>\n",
       "      <td>13.672353</td>\n",
       "      <td>14.647059</td>\n",
       "      <td>15.377119</td>\n",
       "      <td>10.331579</td>\n",
       "      <td>4.965863</td>\n",
       "      <td>...</td>\n",
       "      <td>3.168868</td>\n",
       "      <td>4.152716</td>\n",
       "      <td>8.646371</td>\n",
       "      <td>3.723133</td>\n",
       "      <td>2.576806</td>\n",
       "      <td>NaN</td>\n",
       "      <td>NaN</td>\n",
       "      <td>0.090247</td>\n",
       "      <td>1.376432</td>\n",
       "      <td>3.060907</td>\n",
       "    </tr>\n",
       "    <tr>\n",
       "      <th>std</th>\n",
       "      <td>55325.311233</td>\n",
       "      <td>1.391672</td>\n",
       "      <td>1.966334</td>\n",
       "      <td>6.275026</td>\n",
       "      <td>4.006050</td>\n",
       "      <td>3.243335</td>\n",
       "      <td>2.753787</td>\n",
       "      <td>2.307653</td>\n",
       "      <td>4.134828</td>\n",
       "      <td>14.309694</td>\n",
       "      <td>...</td>\n",
       "      <td>2.233516</td>\n",
       "      <td>1.974375</td>\n",
       "      <td>1.154001</td>\n",
       "      <td>2.095540</td>\n",
       "      <td>1.168486</td>\n",
       "      <td>NaN</td>\n",
       "      <td>NaN</td>\n",
       "      <td>0.286536</td>\n",
       "      <td>0.484492</td>\n",
       "      <td>1.086254</td>\n",
       "    </tr>\n",
       "    <tr>\n",
       "      <th>min</th>\n",
       "      <td>1.000000</td>\n",
       "      <td>-1.000000</td>\n",
       "      <td>1.000000</td>\n",
       "      <td>0.000000</td>\n",
       "      <td>2.000000</td>\n",
       "      <td>2.000000</td>\n",
       "      <td>5.000000</td>\n",
       "      <td>8.000000</td>\n",
       "      <td>0.000000</td>\n",
       "      <td>0.000000</td>\n",
       "      <td>...</td>\n",
       "      <td>1.000000</td>\n",
       "      <td>0.000000</td>\n",
       "      <td>1.000000</td>\n",
       "      <td>0.000000</td>\n",
       "      <td>1.000000</td>\n",
       "      <td>NaN</td>\n",
       "      <td>NaN</td>\n",
       "      <td>0.000000</td>\n",
       "      <td>1.000000</td>\n",
       "      <td>1.000000</td>\n",
       "    </tr>\n",
       "    <tr>\n",
       "      <th>25%</th>\n",
       "      <td>47913.750000</td>\n",
       "      <td>-1.000000</td>\n",
       "      <td>1.000000</td>\n",
       "      <td>8.000000</td>\n",
       "      <td>9.000000</td>\n",
       "      <td>11.000000</td>\n",
       "      <td>13.000000</td>\n",
       "      <td>14.000000</td>\n",
       "      <td>9.000000</td>\n",
       "      <td>1.000000</td>\n",
       "      <td>...</td>\n",
       "      <td>1.000000</td>\n",
       "      <td>2.000000</td>\n",
       "      <td>9.000000</td>\n",
       "      <td>2.000000</td>\n",
       "      <td>1.000000</td>\n",
       "      <td>NaN</td>\n",
       "      <td>NaN</td>\n",
       "      <td>0.000000</td>\n",
       "      <td>1.000000</td>\n",
       "      <td>3.000000</td>\n",
       "    </tr>\n",
       "    <tr>\n",
       "      <th>50%</th>\n",
       "      <td>95826.500000</td>\n",
       "      <td>0.000000</td>\n",
       "      <td>1.000000</td>\n",
       "      <td>11.000000</td>\n",
       "      <td>13.000000</td>\n",
       "      <td>14.000000</td>\n",
       "      <td>15.000000</td>\n",
       "      <td>16.000000</td>\n",
       "      <td>10.000000</td>\n",
       "      <td>1.000000</td>\n",
       "      <td>...</td>\n",
       "      <td>3.000000</td>\n",
       "      <td>5.000000</td>\n",
       "      <td>9.000000</td>\n",
       "      <td>3.000000</td>\n",
       "      <td>3.000000</td>\n",
       "      <td>NaN</td>\n",
       "      <td>NaN</td>\n",
       "      <td>0.000000</td>\n",
       "      <td>1.000000</td>\n",
       "      <td>3.000000</td>\n",
       "    </tr>\n",
       "    <tr>\n",
       "      <th>75%</th>\n",
       "      <td>143739.250000</td>\n",
       "      <td>2.000000</td>\n",
       "      <td>1.000000</td>\n",
       "      <td>16.000000</td>\n",
       "      <td>16.000000</td>\n",
       "      <td>16.000000</td>\n",
       "      <td>17.000000</td>\n",
       "      <td>17.000000</td>\n",
       "      <td>13.000000</td>\n",
       "      <td>4.000000</td>\n",
       "      <td>...</td>\n",
       "      <td>4.000000</td>\n",
       "      <td>6.000000</td>\n",
       "      <td>9.000000</td>\n",
       "      <td>5.000000</td>\n",
       "      <td>3.000000</td>\n",
       "      <td>NaN</td>\n",
       "      <td>NaN</td>\n",
       "      <td>0.000000</td>\n",
       "      <td>2.000000</td>\n",
       "      <td>4.000000</td>\n",
       "    </tr>\n",
       "    <tr>\n",
       "      <th>max</th>\n",
       "      <td>191652.000000</td>\n",
       "      <td>3.000000</td>\n",
       "      <td>9.000000</td>\n",
       "      <td>21.000000</td>\n",
       "      <td>18.000000</td>\n",
       "      <td>18.000000</td>\n",
       "      <td>18.000000</td>\n",
       "      <td>18.000000</td>\n",
       "      <td>25.000000</td>\n",
       "      <td>523.000000</td>\n",
       "      <td>...</td>\n",
       "      <td>11.000000</td>\n",
       "      <td>6.000000</td>\n",
       "      <td>9.000000</td>\n",
       "      <td>8.000000</td>\n",
       "      <td>6.000000</td>\n",
       "      <td>NaN</td>\n",
       "      <td>NaN</td>\n",
       "      <td>1.000000</td>\n",
       "      <td>2.000000</td>\n",
       "      <td>9.000000</td>\n",
       "    </tr>\n",
       "  </tbody>\n",
       "</table>\n",
       "<p>11 rows × 369 columns</p>\n",
       "</div>"
      ],
      "text/plain": [
       "                  LNR       AGER_TYP     AKT_DAT_KL       ALTER_HH  \\\n",
       "count   191652.000000  191652.000000  145056.000000  145056.000000   \n",
       "unique            NaN            NaN            NaN            NaN   \n",
       "top               NaN            NaN            NaN            NaN   \n",
       "freq              NaN            NaN            NaN            NaN   \n",
       "mean     95826.500000       0.344359       1.747525      11.352009   \n",
       "std      55325.311233       1.391672       1.966334       6.275026   \n",
       "min          1.000000      -1.000000       1.000000       0.000000   \n",
       "25%      47913.750000      -1.000000       1.000000       8.000000   \n",
       "50%      95826.500000       0.000000       1.000000      11.000000   \n",
       "75%     143739.250000       2.000000       1.000000      16.000000   \n",
       "max     191652.000000       3.000000       9.000000      21.000000   \n",
       "\n",
       "         ALTER_KIND1  ALTER_KIND2  ALTER_KIND3  ALTER_KIND4  \\\n",
       "count   11766.000000  5100.000000  1275.000000   236.000000   \n",
       "unique           NaN          NaN          NaN          NaN   \n",
       "top              NaN          NaN          NaN          NaN   \n",
       "freq             NaN          NaN          NaN          NaN   \n",
       "mean       12.337243    13.672353    14.647059    15.377119   \n",
       "std         4.006050     3.243335     2.753787     2.307653   \n",
       "min         2.000000     2.000000     5.000000     8.000000   \n",
       "25%         9.000000    11.000000    13.000000    14.000000   \n",
       "50%        13.000000    14.000000    15.000000    16.000000   \n",
       "75%        16.000000    16.000000    17.000000    17.000000   \n",
       "max        18.000000    18.000000    18.000000    18.000000   \n",
       "\n",
       "        ALTERSKATEGORIE_FEIN  ANZ_HAUSHALTE_AKTIV  ...        VK_ZG11  \\\n",
       "count          139810.000000        141725.000000  ...  143781.000000   \n",
       "unique                   NaN                  NaN  ...            NaN   \n",
       "top                      NaN                  NaN  ...            NaN   \n",
       "freq                     NaN                  NaN  ...            NaN   \n",
       "mean               10.331579             4.965863  ...       3.168868   \n",
       "std                 4.134828            14.309694  ...       2.233516   \n",
       "min                 0.000000             0.000000  ...       1.000000   \n",
       "25%                 9.000000             1.000000  ...       1.000000   \n",
       "50%                10.000000             1.000000  ...       3.000000   \n",
       "75%                13.000000             4.000000  ...       4.000000   \n",
       "max                25.000000           523.000000  ...      11.000000   \n",
       "\n",
       "        W_KEIT_KIND_HH  WOHNDAUER_2008       WOHNLAGE       ZABEOTYP  \\\n",
       "count    137910.000000   145056.000000  141725.000000  191652.000000   \n",
       "unique             NaN             NaN            NaN            NaN   \n",
       "top                NaN             NaN            NaN            NaN   \n",
       "freq               NaN             NaN            NaN            NaN   \n",
       "mean          4.152716        8.646371       3.723133       2.576806   \n",
       "std           1.974375        1.154001       2.095540       1.168486   \n",
       "min           0.000000        1.000000       0.000000       1.000000   \n",
       "25%           2.000000        9.000000       2.000000       1.000000   \n",
       "50%           5.000000        9.000000       3.000000       3.000000   \n",
       "75%           6.000000        9.000000       5.000000       3.000000   \n",
       "max           6.000000        9.000000       8.000000       6.000000   \n",
       "\n",
       "            PRODUCT_GROUP  CUSTOMER_GROUP ONLINE_PURCHASE      ANREDE_KZ  \\\n",
       "count              191652          191652   191652.000000  191652.000000   \n",
       "unique                  3               2             NaN            NaN   \n",
       "top     COSMETIC_AND_FOOD     MULTI_BUYER             NaN            NaN   \n",
       "freq               100860          132238             NaN            NaN   \n",
       "mean                  NaN             NaN        0.090247       1.376432   \n",
       "std                   NaN             NaN        0.286536       0.484492   \n",
       "min                   NaN             NaN        0.000000       1.000000   \n",
       "25%                   NaN             NaN        0.000000       1.000000   \n",
       "50%                   NaN             NaN        0.000000       1.000000   \n",
       "75%                   NaN             NaN        0.000000       2.000000   \n",
       "max                   NaN             NaN        1.000000       2.000000   \n",
       "\n",
       "       ALTERSKATEGORIE_GROB  \n",
       "count         191652.000000  \n",
       "unique                  NaN  \n",
       "top                     NaN  \n",
       "freq                    NaN  \n",
       "mean               3.060907  \n",
       "std                1.086254  \n",
       "min                1.000000  \n",
       "25%                3.000000  \n",
       "50%                3.000000  \n",
       "75%                4.000000  \n",
       "max                9.000000  \n",
       "\n",
       "[11 rows x 369 columns]"
      ]
     },
     "execution_count": 11,
     "metadata": {},
     "output_type": "execute_result"
    }
   ],
   "source": [
    "customers.describe(include='all')"
   ]
  },
  {
   "cell_type": "markdown",
   "metadata": {},
   "source": [
    "### Missing Values <a class=\"anchor\" id=\"missingvalues\"></a>\n",
    "\n",
    "At a first glance there are several columns with empty values. In addition to that there are many fetures with a value that actually means the information is missing. In the following section we investigate this further in order to reduce the dataset by dropping columns filled with empty values."
   ]
  },
  {
   "cell_type": "code",
   "execution_count": 12,
   "metadata": {},
   "outputs": [
    {
     "data": {
      "text/html": [
       "<div>\n",
       "<style scoped>\n",
       "    .dataframe tbody tr th:only-of-type {\n",
       "        vertical-align: middle;\n",
       "    }\n",
       "\n",
       "    .dataframe tbody tr th {\n",
       "        vertical-align: top;\n",
       "    }\n",
       "\n",
       "    .dataframe thead th {\n",
       "        text-align: right;\n",
       "    }\n",
       "</style>\n",
       "<table border=\"1\" class=\"dataframe\">\n",
       "  <thead>\n",
       "    <tr style=\"text-align: right;\">\n",
       "      <th></th>\n",
       "      <th>Attribute</th>\n",
       "      <th>Description</th>\n",
       "      <th>Value</th>\n",
       "      <th>Meaning</th>\n",
       "    </tr>\n",
       "  </thead>\n",
       "  <tbody>\n",
       "    <tr>\n",
       "      <th>0</th>\n",
       "      <td>AGER_TYP</td>\n",
       "      <td>best-ager typology</td>\n",
       "      <td>-1</td>\n",
       "      <td>unknown</td>\n",
       "    </tr>\n",
       "    <tr>\n",
       "      <th>5</th>\n",
       "      <td>ALTERSKATEGORIE_GROB</td>\n",
       "      <td>age classification through prename analysis</td>\n",
       "      <td>-1, 0</td>\n",
       "      <td>unknown</td>\n",
       "    </tr>\n",
       "    <tr>\n",
       "      <th>33</th>\n",
       "      <td>ANREDE_KZ</td>\n",
       "      <td>gender</td>\n",
       "      <td>-1, 0</td>\n",
       "      <td>unknown</td>\n",
       "    </tr>\n",
       "    <tr>\n",
       "      <th>40</th>\n",
       "      <td>BALLRAUM</td>\n",
       "      <td>distance to next urban centre</td>\n",
       "      <td>-1</td>\n",
       "      <td>unknown</td>\n",
       "    </tr>\n",
       "    <tr>\n",
       "      <th>48</th>\n",
       "      <td>BIP_FLAG</td>\n",
       "      <td>business-flag indicating companies in the buil...</td>\n",
       "      <td>-1</td>\n",
       "      <td>unknown</td>\n",
       "    </tr>\n",
       "  </tbody>\n",
       "</table>\n",
       "</div>"
      ],
      "text/plain": [
       "               Attribute                                        Description  \\\n",
       "0               AGER_TYP                                 best-ager typology   \n",
       "5   ALTERSKATEGORIE_GROB       age classification through prename analysis    \n",
       "33             ANREDE_KZ                                             gender   \n",
       "40              BALLRAUM                     distance to next urban centre    \n",
       "48              BIP_FLAG  business-flag indicating companies in the buil...   \n",
       "\n",
       "    Value  Meaning  \n",
       "0      -1  unknown  \n",
       "5   -1, 0  unknown  \n",
       "33  -1, 0  unknown  \n",
       "40     -1  unknown  \n",
       "48     -1  unknown  "
      ]
     },
     "execution_count": 12,
     "metadata": {},
     "output_type": "execute_result"
    }
   ],
   "source": [
    "## the attributes data\n",
    "features = pd.read_excel('data/DIAS Attributes - Values 2017.xlsx', header = 1, usecols = [1,2,3,4]).fillna(method = 'ffill')\n",
    "features_missing = features[features['Meaning'] == 'unknown']\n",
    "features_missing.head()"
   ]
  },
  {
   "cell_type": "code",
   "execution_count": 13,
   "metadata": {},
   "outputs": [
    {
     "data": {
      "text/plain": [
       "{'AGER_TYP': [-1],\n",
       " 'ALTERSKATEGORIE_GROB': [-1, 0],\n",
       " 'ANREDE_KZ': [-1, 0],\n",
       " 'BALLRAUM': [-1],\n",
       " 'BIP_FLAG': [-1],\n",
       " 'CAMEO_DEUG_2015': [-1],\n",
       " 'CAMEO_DEUINTL_2015': [-1],\n",
       " 'CJT_GESAMTTYP': [0],\n",
       " 'D19_KK_KUNDENTYP': [-1],\n",
       " 'EWDICHTE': [-1],\n",
       " 'FINANZTYP': [-1],\n",
       " 'FINANZ_ANLEGER': [-1],\n",
       " 'FINANZ_HAUSBAUER': [-1],\n",
       " 'FINANZ_MINIMALIST': [-1],\n",
       " 'FINANZ_SPARER': [-1],\n",
       " 'FINANZ_UNAUFFAELLIGER': [-1],\n",
       " 'FINANZ_VORSORGER': [-1],\n",
       " 'GEBAEUDETYP': [-1, 0],\n",
       " 'GEOSCORE_KLS7': [-1, 0],\n",
       " 'HAUSHALTSSTRUKTUR': [-1, 0],\n",
       " 'HEALTH_TYP': [-1],\n",
       " 'HH_EINKOMMEN_SCORE': [-1, 0],\n",
       " 'INNENSTADT': [-1],\n",
       " 'KBA05_ALTER1': [-1, 9],\n",
       " 'KBA05_ALTER2': [-1, 9],\n",
       " 'KBA05_ALTER3': [-1, 9],\n",
       " 'KBA05_ALTER4': [-1, 9],\n",
       " 'KBA05_ANHANG': [-1, 9],\n",
       " 'KBA05_ANTG1': [-1],\n",
       " 'KBA05_ANTG2': [-1],\n",
       " 'KBA05_ANTG3': [-1],\n",
       " 'KBA05_ANTG4': [-1],\n",
       " 'KBA05_AUTOQUOT': [-1, 9],\n",
       " 'KBA05_BAUMAX': [-1, 0],\n",
       " 'KBA05_CCM1': [-1, 9],\n",
       " 'KBA05_CCM2': [-1, 9],\n",
       " 'KBA05_CCM3': [-1, 9],\n",
       " 'KBA05_CCM4': [-1, 9],\n",
       " 'KBA05_DIESEL': [-1, 9],\n",
       " 'KBA05_FRAU': [-1, 9],\n",
       " 'KBA05_GBZ': [-1, 0],\n",
       " 'KBA05_HERST1': [-1, 9],\n",
       " 'KBA05_HERST2': [-1, 9],\n",
       " 'KBA05_HERST3': [-1, 9],\n",
       " 'KBA05_HERST4': [-1, 9],\n",
       " 'KBA05_HERST5': [-1, 9],\n",
       " 'KBA05_HERSTTEMP': [-1, 9],\n",
       " 'KBA05_KRSAQUOT': [-1, 9],\n",
       " 'KBA05_KRSHERST1': [-1, 9],\n",
       " 'KBA05_KRSHERST2': [-1, 9],\n",
       " 'KBA05_KRSHERST3': [-1, 9],\n",
       " 'KBA05_KRSKLEIN': [-1, 9],\n",
       " 'KBA05_KRSOBER': [-1, 9],\n",
       " 'KBA05_KRSVAN': [-1, 9],\n",
       " 'KBA05_KRSZUL': [-1, 9],\n",
       " 'KBA05_KW1': [-1, 9],\n",
       " 'KBA05_KW2': [-1, 9],\n",
       " 'KBA05_KW3': [-1, 9],\n",
       " 'KBA05_MAXAH': [-1, 9],\n",
       " 'KBA05_MAXBJ': [-1, 9],\n",
       " 'KBA05_MAXHERST': [-1, 9],\n",
       " 'KBA05_MAXSEG': [-1, 9],\n",
       " 'KBA05_MAXVORB': [-1, 9],\n",
       " 'KBA05_MOD1': [-1, 9],\n",
       " 'KBA05_MOD2': [-1, 9],\n",
       " 'KBA05_MOD3': [-1, 9],\n",
       " 'KBA05_MOD4': [-1, 9],\n",
       " 'KBA05_MOD8': [-1, 9],\n",
       " 'KBA05_MODTEMP': [-1, 9],\n",
       " 'KBA05_MOTOR': [-1, 9],\n",
       " 'KBA05_MOTRAD': [-1, 9],\n",
       " 'KBA05_SEG1': [-1, 9],\n",
       " 'KBA05_SEG10': [-1, 9],\n",
       " 'KBA05_SEG2': [-1, 9],\n",
       " 'KBA05_SEG3': [-1, 9],\n",
       " 'KBA05_SEG4': [-1, 9],\n",
       " 'KBA05_SEG5': [-1, 9],\n",
       " 'KBA05_SEG6': [-1, 9],\n",
       " 'KBA05_SEG7': [-1, 9],\n",
       " 'KBA05_SEG8': [-1, 9],\n",
       " 'KBA05_SEG9': [-1, 9],\n",
       " 'KBA05_VORB0': [-1, 9],\n",
       " 'KBA05_VORB1': [-1, 9],\n",
       " 'KBA05_VORB2': [-1, 9],\n",
       " 'KBA05_ZUL1': [-1, 9],\n",
       " 'KBA05_ZUL2': [-1, 9],\n",
       " 'KBA05_ZUL3': [-1, 9],\n",
       " 'KBA05_ZUL4': [-1, 9],\n",
       " 'KBA13_ALTERHALTER_30': [-1],\n",
       " 'KBA13_ALTERHALTER_45': [-1],\n",
       " 'KBA13_ALTERHALTER_60': [-1],\n",
       " 'KBA13_ALTERHALTER_61': [-1],\n",
       " 'KBA13_AUDI': [-1],\n",
       " 'KBA13_AUTOQUOTE': [-1],\n",
       " 'KBA13_BJ_1999': [-1],\n",
       " 'KBA13_BJ_2000': [-1],\n",
       " 'KBA13_BJ_2004': [-1],\n",
       " 'KBA13_BJ_2006': [-1],\n",
       " 'KBA13_BJ_2008': [-1],\n",
       " 'KBA13_BJ_2009': [-1],\n",
       " 'KBA13_BMW': [-1],\n",
       " 'KBA13_CCM_1000': [-1],\n",
       " 'KBA13_CCM_1200': [-1],\n",
       " 'KBA13_CCM_1400': [-1],\n",
       " 'KBA13_CCM_0_1400': [-1],\n",
       " 'KBA13_CCM_1500': [-1],\n",
       " 'KBA13_CCM_1400_2500': [-1],\n",
       " 'KBA13_CCM_1600': [-1],\n",
       " 'KBA13_CCM_1800': [-1],\n",
       " 'KBA13_CCM_2000': [-1],\n",
       " 'KBA13_CCM_2500': [-1],\n",
       " 'KBA13_CCM_2501': [-1],\n",
       " 'KBA13_CCM_3000': [-1],\n",
       " 'KBA13_CCM_3001': [-1],\n",
       " 'KBA13_FAB_ASIEN': [-1],\n",
       " 'KBA13_FAB_SONSTIGE': [-1],\n",
       " 'KBA13_FIAT': [-1],\n",
       " 'KBA13_FORD': [-1],\n",
       " 'KBA13_HALTER_20': [-1],\n",
       " 'KBA13_HALTER_25': [-1],\n",
       " 'KBA13_HALTER_30': [-1],\n",
       " 'KBA13_HALTER_35': [-1],\n",
       " 'KBA13_HALTER_40': [-1],\n",
       " 'KBA13_HALTER_45': [-1],\n",
       " 'KBA13_HALTER_50': [-1],\n",
       " 'KBA13_HALTER_55': [-1],\n",
       " 'KBA13_HALTER_60': [-1],\n",
       " 'KBA13_HALTER_65': [-1],\n",
       " 'KBA13_HALTER_66': [-1],\n",
       " 'KBA13_HERST_ASIEN': [-1],\n",
       " 'KBA13_HERST_AUDI_VW': [-1],\n",
       " 'KBA13_HERST_BMW_BENZ': [-1],\n",
       " 'KBA13_HERST_EUROPA': [-1],\n",
       " 'KBA13_HERST_FORD_OPEL': [-1],\n",
       " 'KBA13_HERST_SONST': [-1],\n",
       " 'KBA13_KMH_110': [-1],\n",
       " 'KBA13_KMH_140': [-1],\n",
       " 'KBA13_KMH_180': [-1],\n",
       " 'KBA13_KMH_0_140': [-1],\n",
       " 'KBA13_KMH_140_210': [-1],\n",
       " 'KBA13_KMH_211': [-1],\n",
       " 'KBA13_KMH_250': [-1],\n",
       " 'KBA13_KMH_251': [-1],\n",
       " 'KBA13_KRSAQUOT': [-1],\n",
       " 'KBA13_KRSHERST_AUDI_VW': [-1],\n",
       " 'KBA13_KRSHERST_BMW_BENZ': [-1],\n",
       " 'KBA13_KRSHERST_FORD_OPEL': [-1],\n",
       " 'KBA13_KRSSEG_KLEIN': [-1],\n",
       " 'KBA13_KRSSEG_OBER': [-1],\n",
       " 'KBA13_KRSSEG_VAN': [-1],\n",
       " 'KBA13_KRSZUL_NEU': [-1],\n",
       " 'KBA13_KW_30': [-1],\n",
       " 'KBA13_KW_40': [-1],\n",
       " 'KBA13_KW_50': [-1],\n",
       " 'KBA13_KW_60': [-1],\n",
       " 'KBA13_KW_0_60': [-1],\n",
       " 'KBA13_KW_70': [-1],\n",
       " 'KBA13_KW_61_120': [-1],\n",
       " 'KBA13_KW_80': [-1],\n",
       " 'KBA13_KW_90': [-1],\n",
       " 'KBA13_KW_110': [-1],\n",
       " 'KBA13_KW_120': [-1],\n",
       " 'KBA13_KW_121': [-1],\n",
       " 'KBA13_MAZDA': [-1],\n",
       " 'KBA13_MERCEDES': [-1],\n",
       " 'KBA13_MOTOR': [-1],\n",
       " 'KBA13_NISSAN': [-1],\n",
       " 'KBA13_OPEL': [-1],\n",
       " 'KBA13_PEUGEOT': [-1],\n",
       " 'KBA13_RENAULT': [-1],\n",
       " 'KBA13_SEG_GELAENDEWAGEN': [-1],\n",
       " 'KBA13_SEG_GROSSRAUMVANS': [-1],\n",
       " 'KBA13_SEG_KLEINST': [-1],\n",
       " 'KBA13_SEG_KLEINWAGEN': [-1],\n",
       " 'KBA13_SEG_KOMPAKTKLASSE': [-1],\n",
       " 'KBA13_SEG_MINIVANS': [-1],\n",
       " 'KBA13_SEG_MINIWAGEN': [-1],\n",
       " 'KBA13_SEG_MITTELKLASSE': [-1],\n",
       " 'KBA13_SEG_OBEREMITTELKLASSE': [-1],\n",
       " 'KBA13_SEG_OBERKLASSE': [-1],\n",
       " 'KBA13_SEG_SONSTIGE': [-1],\n",
       " 'KBA13_SEG_SPORTWAGEN': [-1],\n",
       " 'KBA13_SEG_UTILITIES': [-1],\n",
       " 'KBA13_SEG_VAN': [-1],\n",
       " 'KBA13_SEG_WOHNMOBILE': [-1],\n",
       " 'KBA13_SITZE_4': [-1],\n",
       " 'KBA13_SITZE_5': [-1],\n",
       " 'KBA13_SITZE_6': [-1],\n",
       " 'KBA13_TOYOTA': [-1],\n",
       " 'KBA13_VORB_0': [-1],\n",
       " 'KBA13_VORB_1': [-1],\n",
       " 'KBA13_VORB_1_2': [-1],\n",
       " 'KBA13_VORB_2': [-1],\n",
       " 'KBA13_VORB_3': [-1],\n",
       " 'KBA13_VW': [-1],\n",
       " 'KKK': [-1, 0],\n",
       " 'NATIONALITAET_KZ': [-1, 0],\n",
       " 'ORTSGR_KLS9': [-1],\n",
       " 'OST_WEST_KZ': [-1],\n",
       " 'PLZ8_ANTG1': [-1],\n",
       " 'PLZ8_ANTG2': [-1],\n",
       " 'PLZ8_ANTG3': [-1],\n",
       " 'PLZ8_ANTG4': [-1],\n",
       " 'PLZ8_GBZ': [-1],\n",
       " 'PLZ8_HHZ': [-1],\n",
       " 'PRAEGENDE_JUGENDJAHRE': [-1, 0],\n",
       " 'REGIOTYP': [-1, 0],\n",
       " 'RELAT_AB': [-1, 9],\n",
       " 'RETOURTYP_BK_S': [0],\n",
       " 'SEMIO_DOM': [-1, 9],\n",
       " 'SEMIO_ERL': [-1, 9],\n",
       " 'SEMIO_FAM': [-1, 9],\n",
       " 'SEMIO_KAEM': [-1, 9],\n",
       " 'SEMIO_KRIT': [-1, 9],\n",
       " 'SEMIO_KULT': [-1, 9],\n",
       " 'SEMIO_LUST': [-1, 9],\n",
       " 'SEMIO_MAT': [-1, 9],\n",
       " 'SEMIO_PFLICHT': [-1, 9],\n",
       " 'SEMIO_RAT': [-1, 9],\n",
       " 'SEMIO_REL': [-1, 9],\n",
       " 'SEMIO_SOZ': [-1, 9],\n",
       " 'SEMIO_TRADV': [-1, 9],\n",
       " 'SEMIO_VERT': [-1, 9],\n",
       " 'SHOPPER_TYP': [-1],\n",
       " 'SOHO_FLAG': [-1],\n",
       " 'TITEL_KZ': [-1, 0],\n",
       " 'VERS_TYP': [-1],\n",
       " 'WOHNDAUER_2008': [-1, 0],\n",
       " 'WOHNLAGE': [-1],\n",
       " 'WACHSTUMSGEBIET_NB': [-1, 0],\n",
       " 'W_KEIT_KIND_HH': [-1, 0],\n",
       " 'ZABEOTYP': [-1, 9],\n",
       " 'ALTERSKATEGORIE_FEIN': [0],\n",
       " 'GEBURTSJAHR': [0]}"
      ]
     },
     "execution_count": 13,
     "metadata": {},
     "output_type": "execute_result"
    }
   ],
   "source": [
    "missing_dict = fn.missing_dict(features_missing)\n",
    "missing_dict"
   ]
  },
  {
   "cell_type": "code",
   "execution_count": 14,
   "metadata": {},
   "outputs": [],
   "source": [
    "az_clean = azdias.copy()"
   ]
  },
  {
   "cell_type": "code",
   "execution_count": 15,
   "metadata": {},
   "outputs": [
    {
     "name": "stdout",
     "output_type": "stream",
     "text": [
      "BIP_FLAG\n",
      "CAMEO_DEUINTL_2015\n",
      "D19_KK_KUNDENTYP\n",
      "GEOSCORE_KLS7\n",
      "HAUSHALTSSTRUKTUR\n",
      "KBA13_CCM_1400_2500\n",
      "SOHO_FLAG\n",
      "WACHSTUMSGEBIET_NB\n"
     ]
    }
   ],
   "source": [
    "## Replace values meaning 'unknown' with NAs\n",
    "\n",
    "for (key,value) in missing_dict.items():\n",
    "\n",
    "    try:\n",
    "        az_clean[key].replace(missing_dict[key], np.nan, inplace = True)\n",
    "\n",
    "    except:\n",
    "        ## print columns that are in the attribute list but not on the data\n",
    "        print(key)\n",
    "        continue"
   ]
  },
  {
   "cell_type": "code",
   "execution_count": 16,
   "metadata": {},
   "outputs": [],
   "source": [
    "az_clean['CAMEO_DEU_2015'] = az_clean['CAMEO_DEU_2015'].replace('XX', np.nan)\n",
    "az_clean['CAMEO_INTL_2015'] = az_clean['CAMEO_INTL_2015'].replace('XX', np.nan)\n",
    "az_clean['CAMEO_DEUG_2015'] = az_clean['CAMEO_DEUG_2015'].replace('X', np.nan)"
   ]
  },
  {
   "cell_type": "code",
   "execution_count": 17,
   "metadata": {},
   "outputs": [
    {
     "data": {
      "text/html": [
       "<div>\n",
       "<style scoped>\n",
       "    .dataframe tbody tr th:only-of-type {\n",
       "        vertical-align: middle;\n",
       "    }\n",
       "\n",
       "    .dataframe tbody tr th {\n",
       "        vertical-align: top;\n",
       "    }\n",
       "\n",
       "    .dataframe thead th {\n",
       "        text-align: right;\n",
       "    }\n",
       "</style>\n",
       "<table border=\"1\" class=\"dataframe\">\n",
       "  <thead>\n",
       "    <tr style=\"text-align: right;\">\n",
       "      <th></th>\n",
       "      <th>LNR</th>\n",
       "      <th>AGER_TYP</th>\n",
       "      <th>AKT_DAT_KL</th>\n",
       "      <th>ALTER_HH</th>\n",
       "      <th>ALTER_KIND1</th>\n",
       "      <th>ALTER_KIND2</th>\n",
       "      <th>ALTER_KIND3</th>\n",
       "      <th>ALTER_KIND4</th>\n",
       "      <th>ALTERSKATEGORIE_FEIN</th>\n",
       "      <th>ANZ_HAUSHALTE_AKTIV</th>\n",
       "      <th>...</th>\n",
       "      <th>VHN</th>\n",
       "      <th>VK_DHT4A</th>\n",
       "      <th>VK_DISTANZ</th>\n",
       "      <th>VK_ZG11</th>\n",
       "      <th>W_KEIT_KIND_HH</th>\n",
       "      <th>WOHNDAUER_2008</th>\n",
       "      <th>WOHNLAGE</th>\n",
       "      <th>ZABEOTYP</th>\n",
       "      <th>ANREDE_KZ</th>\n",
       "      <th>ALTERSKATEGORIE_GROB</th>\n",
       "    </tr>\n",
       "  </thead>\n",
       "  <tbody>\n",
       "    <tr>\n",
       "      <th>0</th>\n",
       "      <td>910215</td>\n",
       "      <td>NaN</td>\n",
       "      <td>NaN</td>\n",
       "      <td>NaN</td>\n",
       "      <td>NaN</td>\n",
       "      <td>NaN</td>\n",
       "      <td>NaN</td>\n",
       "      <td>NaN</td>\n",
       "      <td>NaN</td>\n",
       "      <td>NaN</td>\n",
       "      <td>...</td>\n",
       "      <td>NaN</td>\n",
       "      <td>NaN</td>\n",
       "      <td>NaN</td>\n",
       "      <td>NaN</td>\n",
       "      <td>NaN</td>\n",
       "      <td>NaN</td>\n",
       "      <td>NaN</td>\n",
       "      <td>3</td>\n",
       "      <td>1</td>\n",
       "      <td>2</td>\n",
       "    </tr>\n",
       "    <tr>\n",
       "      <th>1</th>\n",
       "      <td>910220</td>\n",
       "      <td>NaN</td>\n",
       "      <td>9.0</td>\n",
       "      <td>0.0</td>\n",
       "      <td>NaN</td>\n",
       "      <td>NaN</td>\n",
       "      <td>NaN</td>\n",
       "      <td>NaN</td>\n",
       "      <td>21.0</td>\n",
       "      <td>11.0</td>\n",
       "      <td>...</td>\n",
       "      <td>4.0</td>\n",
       "      <td>8.0</td>\n",
       "      <td>11.0</td>\n",
       "      <td>10.0</td>\n",
       "      <td>3.0</td>\n",
       "      <td>9.0</td>\n",
       "      <td>4.0</td>\n",
       "      <td>5</td>\n",
       "      <td>2</td>\n",
       "      <td>1</td>\n",
       "    </tr>\n",
       "    <tr>\n",
       "      <th>2</th>\n",
       "      <td>910225</td>\n",
       "      <td>NaN</td>\n",
       "      <td>9.0</td>\n",
       "      <td>17.0</td>\n",
       "      <td>NaN</td>\n",
       "      <td>NaN</td>\n",
       "      <td>NaN</td>\n",
       "      <td>NaN</td>\n",
       "      <td>17.0</td>\n",
       "      <td>10.0</td>\n",
       "      <td>...</td>\n",
       "      <td>2.0</td>\n",
       "      <td>9.0</td>\n",
       "      <td>9.0</td>\n",
       "      <td>6.0</td>\n",
       "      <td>3.0</td>\n",
       "      <td>9.0</td>\n",
       "      <td>2.0</td>\n",
       "      <td>5</td>\n",
       "      <td>2</td>\n",
       "      <td>3</td>\n",
       "    </tr>\n",
       "    <tr>\n",
       "      <th>3</th>\n",
       "      <td>910226</td>\n",
       "      <td>2.0</td>\n",
       "      <td>1.0</td>\n",
       "      <td>13.0</td>\n",
       "      <td>NaN</td>\n",
       "      <td>NaN</td>\n",
       "      <td>NaN</td>\n",
       "      <td>NaN</td>\n",
       "      <td>13.0</td>\n",
       "      <td>1.0</td>\n",
       "      <td>...</td>\n",
       "      <td>0.0</td>\n",
       "      <td>7.0</td>\n",
       "      <td>10.0</td>\n",
       "      <td>11.0</td>\n",
       "      <td>NaN</td>\n",
       "      <td>9.0</td>\n",
       "      <td>7.0</td>\n",
       "      <td>3</td>\n",
       "      <td>2</td>\n",
       "      <td>4</td>\n",
       "    </tr>\n",
       "    <tr>\n",
       "      <th>4</th>\n",
       "      <td>910241</td>\n",
       "      <td>NaN</td>\n",
       "      <td>1.0</td>\n",
       "      <td>20.0</td>\n",
       "      <td>NaN</td>\n",
       "      <td>NaN</td>\n",
       "      <td>NaN</td>\n",
       "      <td>NaN</td>\n",
       "      <td>14.0</td>\n",
       "      <td>3.0</td>\n",
       "      <td>...</td>\n",
       "      <td>2.0</td>\n",
       "      <td>3.0</td>\n",
       "      <td>5.0</td>\n",
       "      <td>4.0</td>\n",
       "      <td>2.0</td>\n",
       "      <td>9.0</td>\n",
       "      <td>3.0</td>\n",
       "      <td>4</td>\n",
       "      <td>1</td>\n",
       "      <td>3</td>\n",
       "    </tr>\n",
       "  </tbody>\n",
       "</table>\n",
       "<p>5 rows × 366 columns</p>\n",
       "</div>"
      ],
      "text/plain": [
       "      LNR  AGER_TYP  AKT_DAT_KL  ALTER_HH  ALTER_KIND1  ALTER_KIND2  \\\n",
       "0  910215       NaN         NaN       NaN          NaN          NaN   \n",
       "1  910220       NaN         9.0       0.0          NaN          NaN   \n",
       "2  910225       NaN         9.0      17.0          NaN          NaN   \n",
       "3  910226       2.0         1.0      13.0          NaN          NaN   \n",
       "4  910241       NaN         1.0      20.0          NaN          NaN   \n",
       "\n",
       "   ALTER_KIND3  ALTER_KIND4  ALTERSKATEGORIE_FEIN  ANZ_HAUSHALTE_AKTIV  ...  \\\n",
       "0          NaN          NaN                   NaN                  NaN  ...   \n",
       "1          NaN          NaN                  21.0                 11.0  ...   \n",
       "2          NaN          NaN                  17.0                 10.0  ...   \n",
       "3          NaN          NaN                  13.0                  1.0  ...   \n",
       "4          NaN          NaN                  14.0                  3.0  ...   \n",
       "\n",
       "   VHN  VK_DHT4A  VK_DISTANZ  VK_ZG11  W_KEIT_KIND_HH  WOHNDAUER_2008  \\\n",
       "0  NaN       NaN         NaN      NaN             NaN             NaN   \n",
       "1  4.0       8.0        11.0     10.0             3.0             9.0   \n",
       "2  2.0       9.0         9.0      6.0             3.0             9.0   \n",
       "3  0.0       7.0        10.0     11.0             NaN             9.0   \n",
       "4  2.0       3.0         5.0      4.0             2.0             9.0   \n",
       "\n",
       "   WOHNLAGE ZABEOTYP ANREDE_KZ ALTERSKATEGORIE_GROB  \n",
       "0       NaN        3         1                    2  \n",
       "1       4.0        5         2                    1  \n",
       "2       2.0        5         2                    3  \n",
       "3       7.0        3         2                    4  \n",
       "4       3.0        4         1                    3  \n",
       "\n",
       "[5 rows x 366 columns]"
      ]
     },
     "execution_count": 17,
     "metadata": {},
     "output_type": "execute_result"
    }
   ],
   "source": [
    "az_clean.head()"
   ]
  },
  {
   "cell_type": "code",
   "execution_count": 18,
   "metadata": {},
   "outputs": [],
   "source": [
    "azdias_null_count = az_clean.isnull().sum() ## total missing values\n",
    "azdias_null_share = pd.DataFrame({'share':azdias_null_count/az_clean.shape[0]}).sort_values(by='share',ascending=False).reset_index()"
   ]
  },
  {
   "cell_type": "code",
   "execution_count": 19,
   "metadata": {},
   "outputs": [
    {
     "data": {
      "image/png": "[encoded data removed]",
      "text/plain": [
       "<Figure size 1008x360 with 1 Axes>"
      ]
     },
     "metadata": {
      "needs_background": "light"
     },
     "output_type": "display_data"
    }
   ],
   "source": [
    "plt.rcParams[\"figure.figsize\"] = (14,5)\n",
    "plt.hist(azdias_null_share[\"share\"], color = 'darkred')\n",
    "plt.xlabel('Share of missing values')\n",
    "plt.title('Histogram of share of missing values per column');"
   ]
  },
  {
   "cell_type": "markdown",
   "metadata": {},
   "source": [
    "From this figure we can determine that we can eliminate all columns with more than 40% missing values."
   ]
  },
  {
   "cell_type": "code",
   "execution_count": 20,
   "metadata": {},
   "outputs": [],
   "source": [
    "drop_columns = list(azdias_null_share[azdias_null_share['share']>0.4]['index'])"
   ]
  },
  {
   "cell_type": "code",
   "execution_count": 21,
   "metadata": {},
   "outputs": [
    {
     "data": {
      "image/png": "[encoded data removed]",
      "text/plain": [
       "<Figure size 1440x360 with 1 Axes>"
      ]
     },
     "metadata": {
      "needs_background": "light"
     },
     "output_type": "display_data"
    }
   ],
   "source": [
    "plt.rcParams[\"figure.figsize\"] = (20,5)\n",
    "sns.barplot(data = azdias_null_share[azdias_null_share['index'].isin(drop_columns)],\n",
    "x = 'index',\n",
    "y = 'share',\n",
    "color = 'darkblue'\n",
    ")\n",
    "plt.xlabel('Column Name')\n",
    "plt.ylabel('Null share')\n",
    "plt.title('Columns with >50% NULL share');\n",
    "\n"
   ]
  },
  {
   "cell_type": "markdown",
   "metadata": {},
   "source": [
    "In the following, we explore eliminating rows with missing values as eliminating incomplete entries can also contribute to improve our fit."
   ]
  },
  {
   "cell_type": "code",
   "execution_count": 22,
   "metadata": {},
   "outputs": [],
   "source": [
    "azdias_nrows_count = az_clean.isnull().sum(axis=1)\n",
    "azdias_nrows_share = pd.DataFrame({'share':azdias_nrows_count/az_clean.shape[1]}).sort_values(by='share',ascending=False)\n"
   ]
  },
  {
   "cell_type": "code",
   "execution_count": 23,
   "metadata": {},
   "outputs": [
    {
     "data": {
      "image/png": "[encoded data removed]",
      "text/plain": [
       "<Figure size 1008x360 with 1 Axes>"
      ]
     },
     "metadata": {
      "needs_background": "light"
     },
     "output_type": "display_data"
    }
   ],
   "source": [
    "plt.rcParams[\"figure.figsize\"] = (14,5)\n",
    "plt.hist(azdias_nrows_share[\"share\"], color = 'darkred')\n",
    "plt.xlabel('Share of missing values')\n",
    "plt.title('Histogram of share of missing values per row');"
   ]
  },
  {
   "cell_type": "markdown",
   "metadata": {},
   "source": [
    "From this figure we determine, we can drop all rows with more than half of the columns empty."
   ]
  },
  {
   "cell_type": "code",
   "execution_count": 24,
   "metadata": {},
   "outputs": [
    {
     "name": "stdout",
     "output_type": "stream",
     "text": [
      "Dropping all rows with more than 50% of empty columns will result on a loss of 11.22% of the rows\n"
     ]
    }
   ],
   "source": [
    "drop_rows = azdias_nrows_share[azdias_nrows_share['share']>= 0.5].index\n",
    "print(\"Dropping all rows with more than 50% of empty columns will result on a loss of {}% of the rows\".\n",
    "      format(round(len(drop_rows)*100/azdias.shape[0],2)))"
   ]
  },
  {
   "cell_type": "markdown",
   "metadata": {},
   "source": [
    "### Data cleaning <a class=\"anchor\" id=\"dataclean\"></a>\n",
    "\n",
    "In addition to eliminating empty values, we also address the following:\n",
    "* Removing redundant columns or with many unique values\n",
    "* Parsing columns to their correct data format according their content (*e.g.*, dates as dates, numbers as float or int, etc.)."
   ]
  },
  {
   "cell_type": "code",
   "execution_count": 25,
   "metadata": {},
   "outputs": [],
   "source": [
    "az_clean2 = fn.clean_data(df = az_clean, drop_rows= drop_rows, drop_cols= drop_columns)"
   ]
  },
  {
   "cell_type": "code",
   "execution_count": 26,
   "metadata": {},
   "outputs": [
    {
     "name": "stdout",
     "output_type": "stream",
     "text": [
      "Old shape: (891221, 366)\n",
      "New shape: (791250, 356) \n",
      "\n",
      "Datatypes:\n",
      "float64    265\n",
      "int64       88\n",
      "object       3\n",
      "dtype: int64\n"
     ]
    }
   ],
   "source": [
    "# Print new shape and datatypes\n",
    "print(\"Old shape: {}\".format(azdias.shape))\n",
    "print(\"New shape: {} \\n\".format(az_clean2.shape))\n",
    "print(\"Datatypes:\")\n",
    "print(az_clean2.dtypes.value_counts())"
   ]
  },
  {
   "cell_type": "code",
   "execution_count": 27,
   "metadata": {},
   "outputs": [
    {
     "name": "stdout",
     "output_type": "stream",
     "text": [
      "       CAMEO_DEU_2015 CAMEO_INTL_2015 D19_LETZTER_KAUF_BRANCHE\n",
      "count          786772          786772                   613716\n",
      "unique             44              42                       35\n",
      "top                6B              51            D19_UNBEKANNT\n",
      "freq            56410           77329                   189621\n"
     ]
    }
   ],
   "source": [
    "cat_columns = az_clean2.select_dtypes(['object']).columns\n",
    "print(az_clean2[cat_columns].describe())        "
   ]
  },
  {
   "cell_type": "code",
   "execution_count": 28,
   "metadata": {},
   "outputs": [
    {
     "name": "stdout",
     "output_type": "stream",
     "text": [
      "CAMEO_DEU_2015 has 44 unique values with the following content:\n",
      "['8A' '4C' '2A' '6B' '8C' '4A' '2D' '1A' '1E' '9D' '5C' '8B' '7A' '5D'\n",
      " '9E' '9B' '1B' '3D' nan '4E' '4B' '3C' '5A' '7B' '9A' '6D' '6E' '2C' '7C'\n",
      " '9C' '7D' '5E' '1D' '8D' '6C' '6A' '5B' '4D' '3A' '2B' '7E' '3B' '6F'\n",
      " '5F' '1C']\n",
      "CAMEO_INTL_2015 has 42 unique values with the following content:\n",
      "[51.0 24.0 12.0 43.0 54.0 22.0 14.0 13.0 15.0 33.0 41.0 34.0 55.0 25.0 nan\n",
      " 23.0 31.0 52.0 35.0 45.0 44.0 32.0 '22' '24' '41' '12' '54' '51' '44'\n",
      " '35' '23' '25' '14' '34' '52' '55' '31' '32' '15' '13' '43' '33' '45']\n",
      "D19_LETZTER_KAUF_BRANCHE has 35 unique values with the following content:\n",
      "[nan 'D19_UNBEKANNT' 'D19_SCHUHE' 'D19_ENERGIE' 'D19_KOSMETIK'\n",
      " 'D19_VOLLSORTIMENT' 'D19_SONSTIGE' 'D19_BANKEN_GROSS'\n",
      " 'D19_DROGERIEARTIKEL' 'D19_HANDWERK' 'D19_BUCH_CD' 'D19_VERSICHERUNGEN'\n",
      " 'D19_VERSAND_REST' 'D19_TELKO_REST' 'D19_BANKEN_DIREKT' 'D19_BANKEN_REST'\n",
      " 'D19_FREIZEIT' 'D19_LEBENSMITTEL' 'D19_HAUS_DEKO' 'D19_BEKLEIDUNG_REST'\n",
      " 'D19_SAMMELARTIKEL' 'D19_TELKO_MOBILE' 'D19_REISEN' 'D19_BEKLEIDUNG_GEH'\n",
      " 'D19_TECHNIK' 'D19_NAHRUNGSERGAENZUNG' 'D19_DIGIT_SERV' 'D19_LOTTO'\n",
      " 'D19_RATGEBER' 'D19_TIERARTIKEL' 'D19_KINDERARTIKEL' 'D19_BIO_OEKO'\n",
      " 'D19_WEIN_FEINKOST' 'D19_GARTEN' 'D19_BILDUNG' 'D19_BANKEN_LOKAL']\n"
     ]
    }
   ],
   "source": [
    "for c in cat_columns:\n",
    "    print('{} has {} unique values with the following content:'.format(c, az_clean2[c].nunique()))\n",
    "    print(az_clean2[c].unique())"
   ]
  },
  {
   "cell_type": "markdown",
   "metadata": {},
   "source": [
    "The following actions need to be made regarding these categorical variables:\n",
    "\n",
    "* Even though `CAMEO_DEU_2015` has many unique values, the information that it provides is important. As this information is repeated in `CAMEO_INTL_2015` there is no need to keep both columns and `CAMEO_INTL_2015` can be dropped. `D19_LETZTER_KAUF_BRANCHE` has too many unique values and should be dropped. `LNR` is an internal identification number that can also be dropped.\n",
    "\n",
    "* `CAMEO_DEUG_2015` can be converted to integer.\n",
    "\n",
    "* `EINGEFUEGT_AM` needs to be cast into date from its current string format. \n",
    "* `OST_WEST_KZ` can be coded into \"W\"=1 AND \"E\"=0"
   ]
  },
  {
   "cell_type": "code",
   "execution_count": 29,
   "metadata": {},
   "outputs": [
    {
     "data": {
      "text/plain": [
       "['ALTER_KIND4',\n",
       " 'TITEL_KZ',\n",
       " 'ALTER_KIND3',\n",
       " 'ALTER_KIND2',\n",
       " 'ALTER_KIND1',\n",
       " 'AGER_TYP',\n",
       " 'EXTSEL992',\n",
       " 'KK_KUNDENTYP',\n",
       " 'KBA05_BAUMAX',\n",
       " 'GEBURTSJAHR',\n",
       " 'CAMEO_INTL_2015',\n",
       " 'D19_LETZTER_KAUF_BRANCHE',\n",
       " 'LNR']"
      ]
     },
     "execution_count": 29,
     "metadata": {},
     "output_type": "execute_result"
    }
   ],
   "source": [
    "drop_columns = drop_columns + ['CAMEO_INTL_2015','D19_LETZTER_KAUF_BRANCHE', 'LNR']\n",
    "drop_columns"
   ]
  },
  {
   "cell_type": "code",
   "execution_count": 30,
   "metadata": {},
   "outputs": [],
   "source": [
    "az_clean2.drop(['CAMEO_INTL_2015','D19_LETZTER_KAUF_BRANCHE', 'LNR'], axis = 1, inplace = True)"
   ]
  },
  {
   "cell_type": "markdown",
   "metadata": {},
   "source": [
    "In the same way the customers dataset needs to be cleaned. There are, however additional columns which are not found in the German data. "
   ]
  },
  {
   "cell_type": "code",
   "execution_count": 31,
   "metadata": {},
   "outputs": [],
   "source": [
    "## The customers data set\n",
    "diff_cols = list(set(customers.columns) - set(azdias.columns))"
   ]
  },
  {
   "cell_type": "code",
   "execution_count": 32,
   "metadata": {},
   "outputs": [],
   "source": [
    "customers_nrows_count = customers.isnull().sum(axis=1)\n",
    "customers_nrows_share = pd.DataFrame({'share':customers_nrows_count/customers.shape[1]}).sort_values(by='share',ascending=False)\n",
    "customers_drop_rows = customers_nrows_share[customers_nrows_share['share']>= 0.5].index\n"
   ]
  },
  {
   "cell_type": "code",
   "execution_count": 33,
   "metadata": {},
   "outputs": [],
   "source": [
    "customers_clean = fn.clean_data(df = customers, drop_rows = customers_drop_rows, drop_cols = drop_columns + diff_cols)"
   ]
  },
  {
   "cell_type": "code",
   "execution_count": 34,
   "metadata": {},
   "outputs": [
    {
     "name": "stdout",
     "output_type": "stream",
     "text": [
      "Old shape: (191652, 369)\n",
      "New shape: (140901, 353) \n",
      "\n",
      "Datatypes:\n",
      "float64    260\n",
      "int64       92\n",
      "object       1\n",
      "dtype: int64\n"
     ]
    }
   ],
   "source": [
    "# Print new shape and datatypes\n",
    "print(\"Old shape: {}\".format(customers.shape))\n",
    "print(\"New shape: {} \\n\".format(customers_clean.shape))\n",
    "print(\"Datatypes:\")\n",
    "print(customers_clean.dtypes.value_counts())"
   ]
  },
  {
   "cell_type": "markdown",
   "metadata": {},
   "source": [
    "### Feature Engineering <a class=\"anchor\" id=\"featureengineering\"></a>\n",
    "\n",
    "In addition to cleaning the data set, some feature engineering work needs to be done. In this section we address imputing empty values, and transforming/standarizing features depending on the column type."
   ]
  },
  {
   "cell_type": "code",
   "execution_count": 35,
   "metadata": {},
   "outputs": [
    {
     "name": "stdout",
     "output_type": "stream",
     "text": [
      "Binary features ['DSL_FLAG', 'GREEN_AVANTGARDE', 'HH_DELTA_FLAG', 'KBA05_SEG6', 'KONSUMZELLE', 'OST_WEST_KZ', 'SOHO_KZ', 'UNGLEICHENN_FLAG', 'VERS_TYP', 'ANREDE_KZ']\n"
     ]
    }
   ],
   "source": [
    "## Imputing pipe line for binary variables\n",
    "bin_cols = fn.find_binary_cols(az_clean2)\n",
    "print(\"Binary features\", bin_cols)\n",
    "\n",
    "bin_pipe = Pipeline([('bin_impute'\n",
    "                             , SimpleImputer(missing_values=np.nan\n",
    "                                             , strategy='most_frequent'\n",
    "                                            )\n",
    "                            )])"
   ]
  },
  {
   "cell_type": "code",
   "execution_count": 36,
   "metadata": {},
   "outputs": [
    {
     "name": "stdout",
     "output_type": "stream",
     "text": [
      "Categorical features ['CAMEO_DEU_2015']\n"
     ]
    }
   ],
   "source": [
    "## Imputing and encoding for categorical variables\n",
    "\n",
    "cat_cols = fn.find_cat_cols(az_clean2)\n",
    "print(\"Categorical features\", cat_cols)\n",
    "\n",
    "cat_pipe = Pipeline([\n",
    "    ('cat_impute', SimpleImputer(missing_values=np.nan, strategy='most_frequent')),\n",
    "    ('onehot', OneHotEncoder(handle_unknown='ignore'))\n",
    "])"
   ]
  },
  {
   "cell_type": "code",
   "execution_count": 37,
   "metadata": {},
   "outputs": [
    {
     "name": "stdout",
     "output_type": "stream",
     "text": [
      "Numerical features (first 10 on the list) ['FINANZ_ANLEGER', 'D19_VERSAND_ANZ_12', 'KBA13_HALTER_25', 'D19_VERSAND_ANZ_24', 'PLZ8_ANTG1', 'KBA13_NISSAN', 'KBA13_CCM_2501', 'KBA13_BJ_2008', 'KBA05_SEG5']\n"
     ]
    }
   ],
   "source": [
    "## Imputing for remaining numerical variables\n",
    "\n",
    "num_cols = list(set(az_clean2.columns) - set(bin_cols) - set(cat_cols))\n",
    "print(\"Numerical features (first 10 on the list)\", num_cols[1:10])\n",
    "\n",
    "num_pipe = Pipeline([\n",
    "    ('num_impute', SimpleImputer(missing_values=np.nan, strategy='median')),\n",
    "    ('num_scale', StandardScaler())\n",
    "])\n"
   ]
  },
  {
   "cell_type": "code",
   "execution_count": 38,
   "metadata": {},
   "outputs": [],
   "source": [
    "### Combining transformers\n",
    "\n",
    "column_transformer = ColumnTransformer(\n",
    "    transformers = [\n",
    "        ('bin', bin_pipe, bin_cols),\n",
    "        ('cat', cat_pipe, cat_cols),\n",
    "        ('num', num_pipe, num_cols)\n",
    "    ]\n",
    ")\n",
    "az_clean2[cat_cols] = az_clean2[cat_cols].astype('str')\n",
    "az_trans = column_transformer.fit_transform(az_clean2)"
   ]
  },
  {
   "cell_type": "code",
   "execution_count": 39,
   "metadata": {},
   "outputs": [],
   "source": [
    "## Transform az_trans to a data frame (recover column names from transformator)\n",
    "\n",
    "onehot_names = list(column_transformer.transformers_[1][1].named_steps['onehot'].get_feature_names(cat_cols))\n",
    "col_names = bin_cols + onehot_names + num_cols\n",
    "az_df = pd.DataFrame(az_trans, columns = [col_names])"
   ]
  },
  {
   "cell_type": "code",
   "execution_count": 40,
   "metadata": {},
   "outputs": [
    {
     "data": {
      "text/plain": [
       "float64    397\n",
       "dtype: int64"
      ]
     },
     "execution_count": 40,
     "metadata": {},
     "output_type": "execute_result"
    }
   ],
   "source": [
    "## Check data types in transformed data set\n",
    "az_df.dtypes.value_counts()"
   ]
  },
  {
   "cell_type": "markdown",
   "metadata": {},
   "source": [
    "## Part 1: Customer Segmentation Report <a class=\"anchor\" id=\"customersegm\"></a>\n",
    "\n",
    "The main bulk of your analysis will come in this part of the project. Here, you should use unsupervised learning techniques to describe the relationship between the demographics of the company's existing customers and the general population of Germany. By the end of this part, you should be able to describe parts of the general population that are more likely to be part of the mail-order company's main customer base, and which parts of the general population are less so."
   ]
  },
  {
   "cell_type": "markdown",
   "metadata": {},
   "source": [
    "### Principal Component Analysis <a class=\"anchor\" id=\"pca\"></a>"
   ]
  },
  {
   "cell_type": "code",
   "execution_count": null,
   "metadata": {},
   "outputs": [],
   "source": [
    "# az_df = pickle.load(open('data/az_df.pckl','rb'))"
   ]
  },
  {
   "cell_type": "code",
   "execution_count": 41,
   "metadata": {},
   "outputs": [
    {
     "data": {
      "text/plain": [
       "397"
      ]
     },
     "execution_count": 41,
     "metadata": {},
     "output_type": "execute_result"
    }
   ],
   "source": [
    "az_df.shape[1]"
   ]
  },
  {
   "cell_type": "markdown",
   "metadata": {},
   "source": [
    "The transformed German dataset has 397 different features even after the data cleaning process. In order to reduce the number of features an approach such as Principal Component Analysis can be applied."
   ]
  },
  {
   "cell_type": "code",
   "execution_count": 42,
   "metadata": {},
   "outputs": [],
   "source": [
    "## Fit the PCA model\n",
    "\n",
    "az_pca = PCA().fit(az_df)"
   ]
  },
  {
   "cell_type": "code",
   "execution_count": 43,
   "metadata": {},
   "outputs": [
    {
     "data": {
      "image/png": "[encoded data removed]",
      "text/plain": [
       "<Figure size 864x432 with 1 Axes>"
      ]
     },
     "metadata": {
      "needs_background": "light"
     },
     "output_type": "display_data"
    }
   ],
   "source": [
    "fn.scree_plot(az_pca)"
   ]
  },
  {
   "cell_type": "markdown",
   "metadata": {},
   "source": [
    "From this plot we observe that around 200 components explain more than 90% of the variance, which means we can reduce our dataset to almost half of the features without loosing much predictive power."
   ]
  },
  {
   "cell_type": "code",
   "execution_count": 44,
   "metadata": {},
   "outputs": [],
   "source": [
    "pca_red = PCA(n_components=200).fit(az_df)\n",
    "az_red = pd.DataFrame(pca_red.transform(az_df))"
   ]
  },
  {
   "cell_type": "markdown",
   "metadata": {},
   "source": [
    "### K-Means <a class=\"anchor\" id=\"kmeans\"></a>\n",
    "\n",
    "We know we can reduce the features in the data for clustering, however, as we make use of a K-Means algorithm for clustering, we still need to determine the no. of clusters required. This can be done, *e.g.* by using the elbow method."
   ]
  },
  {
   "cell_type": "code",
   "execution_count": 45,
   "metadata": {},
   "outputs": [],
   "source": [
    "## Loop over a range of possible cluster values\n",
    "\n",
    "sum_squared_d = []\n",
    "\n",
    "for i in np.arange(2,41):\n",
    "    k = KMeans(n_clusters = i, init = \"k-means++\")\n",
    "    k.fit(az_red.sample(10000))\n",
    "    sum_squared_d.append(k.inertia_)"
   ]
  },
  {
   "cell_type": "code",
   "execution_count": 46,
   "metadata": {},
   "outputs": [
    {
     "data": {
      "image/png": "[encoded data removed]",
      "text/plain": [
       "<Figure size 864x288 with 1 Axes>"
      ]
     },
     "metadata": {
      "needs_background": "light"
     },
     "output_type": "display_data"
    }
   ],
   "source": [
    "## Plot sum_squares vs. no. of clusters\n",
    "\n",
    "plt.figure(figsize = (12,4))\n",
    "plt.plot(np.arange(2,41), sum_squared_d, '-')\n",
    "plt.xticks(np.arange(2,41))\n",
    "plt.xlabel(\"Clusters\")\n",
    "plt.ylabel(\"Inertia\");"
   ]
  },
  {
   "cell_type": "markdown",
   "metadata": {},
   "source": [
    "Although not entirely clear from the plot, we observe that the inertia reduces drastically in the range of 2 to 7 clusters. This constitutes the first elbow from the curve and, which means no further (impactful) gains can be achieved by increasing the number of clusters to more than 7. "
   ]
  },
  {
   "cell_type": "markdown",
   "metadata": {},
   "source": [
    "### Cluster analysis <a class=\"anchor\" id=\"clusteranalysis\"></a>\n",
    "\n",
    "Once we obtained to which level we can reduce the features of the dataset (*i.e.*, PCA) and the optimal number of clusters to fit (*i.e.*, elbow method for K-Means) then we can proceed to cluster the data to proceed with our analysis. Briefly explained, the approach we use is to fit the reduced German population into K-Means and use the same model to predict the clustering of the customers dataset. Once obtained, the clusters per sample can be compared to determine which group of customers are over- or underrepresented with respect to the general German population."
   ]
  },
  {
   "cell_type": "code",
   "execution_count": 47,
   "metadata": {},
   "outputs": [
    {
     "data": {
      "text/plain": [
       "Pipeline(steps=[('transform',\n",
       "                 ColumnTransformer(transformers=[('bin',\n",
       "                                                  Pipeline(steps=[('bin_impute',\n",
       "                                                                   SimpleImputer(strategy='most_frequent'))]),\n",
       "                                                  ['DSL_FLAG',\n",
       "                                                   'GREEN_AVANTGARDE',\n",
       "                                                   'HH_DELTA_FLAG',\n",
       "                                                   'KBA05_SEG6', 'KONSUMZELLE',\n",
       "                                                   'OST_WEST_KZ', 'SOHO_KZ',\n",
       "                                                   'UNGLEICHENN_FLAG',\n",
       "                                                   'VERS_TYP', 'ANREDE_KZ']),\n",
       "                                                 ('cat',\n",
       "                                                  Pipeline(steps=[('cat_impute',\n",
       "                                                                   SimpleImputer(strategy='most_f...\n",
       "                                                   'PLZ8_ANTG4', 'KBA05_CCM3',\n",
       "                                                   'KBA13_SEG_OBERKLASSE',\n",
       "                                                   'KBA13_ALTERHALTER_30',\n",
       "                                                   'FINANZTYP',\n",
       "                                                   'ALTERSKATEGORIE_GROB',\n",
       "                                                   'KBA13_FORD', 'KBA13_FIAT',\n",
       "                                                   'KBA05_SEG9',\n",
       "                                                   'CAMEO_DEUG_2015',\n",
       "                                                   'KBA13_ANTG2',\n",
       "                                                   'LP_LEBENSPHASE_GROB',\n",
       "                                                   'D19_GESAMT_OFFLINE_DATUM',\n",
       "                                                   'KBA05_SEG7', 'KBA13_BMW',\n",
       "                                                   'SEMIO_REL',\n",
       "                                                   'D19_BANKEN_GROSS', ...])])),\n",
       "                ('reduction', PCA(n_components=200)),\n",
       "                ('clustering', KMeans(n_clusters=7))])"
      ]
     },
     "execution_count": 47,
     "metadata": {},
     "output_type": "execute_result"
    }
   ],
   "source": [
    "## Setup pipeline to reduce and cluster data\n",
    "\n",
    "n_components = 200\n",
    "n_clusters = 7\n",
    "\n",
    "cluster_pipe = Pipeline([\n",
    "    ('transform', column_transformer)\n",
    "    ,('reduction', PCA(n_components= n_components))\n",
    "    ,('clustering', KMeans(n_clusters = n_clusters, init = 'k-means++'))\n",
    "])\n",
    "cluster_pipe.fit(az_clean2)"
   ]
  },
  {
   "cell_type": "code",
   "execution_count": 49,
   "metadata": {},
   "outputs": [],
   "source": [
    "## Create clustered dataframes\n",
    "\n",
    "az_clust = pd.DataFrame(cluster_pipe.predict(az_clean2), columns = [\"Cluster\"])\n",
    "customers_clust = pd.DataFrame(cluster_pipe.predict(customers_clean), columns = [\"Cluster\"])\n"
   ]
  },
  {
   "cell_type": "code",
   "execution_count": 50,
   "metadata": {},
   "outputs": [],
   "source": [
    "## Join clustered datasets into one dataframe\n",
    "\n",
    "clusters = pd.DataFrame({'Germany':az_clust.value_counts().sort_index()\n",
    "              , 'Customers':customers_clust.value_counts().sort_index()}).reset_index()\n",
    "clusters['Cluster'] += 1\n",
    "clusters['Germany_share'] = clusters['Germany']/clusters['Germany'].sum()\n",
    "clusters['Customers_share'] = clusters['Customers']/clusters['Customers'].sum()\n",
    "clusters['Delta'] = clusters['Customers_share'] - clusters['Germany_share']\n"
   ]
  },
  {
   "cell_type": "code",
   "execution_count": 51,
   "metadata": {},
   "outputs": [
    {
     "data": {
      "image/png": "[encoded data removed]",
      "text/plain": [
       "<Figure size 864x720 with 2 Axes>"
      ]
     },
     "metadata": {
      "needs_background": "light"
     },
     "output_type": "display_data"
    }
   ],
   "source": [
    "## Plot clusters \n",
    "\n",
    "plt.rcParams[\"figure.figsize\"] = (12,10)\n",
    "\n",
    "plt.subplot(2,1,1)\n",
    "\n",
    "sns.barplot(data = clusters.drop(['Germany', 'Customers', 'Delta'], axis = 1).melt(id_vars = ['Cluster']),\n",
    "x = 'Cluster',\n",
    "y = 'value',\n",
    "hue = 'variable'\n",
    ")\n",
    "plt.xlabel('Cluster')\n",
    "plt.ylabel('Share')\n",
    "plt.title('Clustered Germany data');\n",
    "\n",
    "plt.subplot(2,1,2)\n",
    "\n",
    "sns.barplot(data = clusters,\n",
    "x = 'Cluster',\n",
    "y = 'Delta',\n",
    "color = 'grey'#'darkred'\n",
    ")\n",
    "plt.xlabel('Cluster')\n",
    "plt.ylabel('Share')\n",
    "plt.title('Clustered customers data');"
   ]
  },
  {
   "cell_type": "markdown",
   "metadata": {},
   "source": [
    "From these graphs we make the following observations:\n",
    "* The German data is somewhat balanced across clusters with the exception of cluster 7. The Customers data, in contrast, is highly concentraded in few clusters (1, 3, and 6).\n",
    "* Precisely clusters 1, 3, 6 are the most overrepresented clusters in comparison to the German data, as seen by the positive difference in shares. Clusters 2 and 7, on the other hand, are underepresented with respect to the German data, as the difference in shares is negative.\n",
    "* Focus clusters can be selected by choosing the clusters with a share difference of more than 10% with respect to the general population.\n",
    "\n",
    "The recommendation to the marketing campaing, thus, is to focus on the customers in clusters 1 and 6 as they stand out from the general population whereas clusters 2 and 5 are quite underepresented and should not be part of the focus group."
   ]
  },
  {
   "cell_type": "code",
   "execution_count": 52,
   "metadata": {},
   "outputs": [],
   "source": [
    "## Extract the values of cluster centers for all clusters\n",
    "cluster_centers = fn.get_cluster_centers(cluster_pipe, num_cols,col_names)"
   ]
  },
  {
   "cell_type": "code",
   "execution_count": 102,
   "metadata": {},
   "outputs": [
    {
     "data": {
      "text/html": [
       "<div>\n",
       "<style scoped>\n",
       "    .dataframe tbody tr th:only-of-type {\n",
       "        vertical-align: middle;\n",
       "    }\n",
       "\n",
       "    .dataframe tbody tr th {\n",
       "        vertical-align: top;\n",
       "    }\n",
       "\n",
       "    .dataframe thead th {\n",
       "        text-align: right;\n",
       "    }\n",
       "</style>\n",
       "<table border=\"1\" class=\"dataframe\">\n",
       "  <thead>\n",
       "    <tr style=\"text-align: right;\">\n",
       "      <th></th>\n",
       "      <th>1</th>\n",
       "      <th>6</th>\n",
       "      <th>2</th>\n",
       "      <th>5</th>\n",
       "    </tr>\n",
       "  </thead>\n",
       "  <tbody>\n",
       "    <tr>\n",
       "      <th>ALTERSKATEGORIE_FEIN</th>\n",
       "      <td>13.840464</td>\n",
       "      <td>12.600025</td>\n",
       "      <td>16.876800</td>\n",
       "      <td>16.478279</td>\n",
       "    </tr>\n",
       "    <tr>\n",
       "      <th>ANZ_HAUSHALTE_AKTIV</th>\n",
       "      <td>6.608773</td>\n",
       "      <td>2.103233</td>\n",
       "      <td>5.984970</td>\n",
       "      <td>18.113108</td>\n",
       "    </tr>\n",
       "    <tr>\n",
       "      <th>ANZ_STATISTISCHE_HAUSHALTE</th>\n",
       "      <td>6.092161</td>\n",
       "      <td>2.142859</td>\n",
       "      <td>5.409505</td>\n",
       "      <td>16.074903</td>\n",
       "    </tr>\n",
       "    <tr>\n",
       "      <th>EINGEZOGENAM_HH_JAHR</th>\n",
       "      <td>2003.145594</td>\n",
       "      <td>2001.103024</td>\n",
       "      <td>2006.066231</td>\n",
       "      <td>2006.582825</td>\n",
       "    </tr>\n",
       "    <tr>\n",
       "      <th>GEMEINDETYP</th>\n",
       "      <td>18.643941</td>\n",
       "      <td>33.238593</td>\n",
       "      <td>27.973320</td>\n",
       "      <td>12.822889</td>\n",
       "    </tr>\n",
       "    <tr>\n",
       "      <th>KBA13_ANZAHL_PKW</th>\n",
       "      <td>631.400236</td>\n",
       "      <td>675.609121</td>\n",
       "      <td>724.303032</td>\n",
       "      <td>438.249246</td>\n",
       "    </tr>\n",
       "    <tr>\n",
       "      <th>LP_LEBENSPHASE_FEIN</th>\n",
       "      <td>16.089917</td>\n",
       "      <td>18.128382</td>\n",
       "      <td>10.271804</td>\n",
       "      <td>8.606079</td>\n",
       "    </tr>\n",
       "    <tr>\n",
       "      <th>LP_STATUS_FEIN</th>\n",
       "      <td>5.655747</td>\n",
       "      <td>7.863959</td>\n",
       "      <td>4.036648</td>\n",
       "      <td>1.872762</td>\n",
       "    </tr>\n",
       "    <tr>\n",
       "      <th>PRAEGENDE_JUGENDJAHRE</th>\n",
       "      <td>8.247898</td>\n",
       "      <td>6.231981</td>\n",
       "      <td>12.373154</td>\n",
       "      <td>11.842548</td>\n",
       "    </tr>\n",
       "    <tr>\n",
       "      <th>VERDICHTUNGSRAUM</th>\n",
       "      <td>5.814049</td>\n",
       "      <td>2.555780</td>\n",
       "      <td>3.559849</td>\n",
       "      <td>6.979584</td>\n",
       "    </tr>\n",
       "  </tbody>\n",
       "</table>\n",
       "</div>"
      ],
      "text/plain": [
       "                                      1            6            2            5\n",
       "ALTERSKATEGORIE_FEIN          13.840464    12.600025    16.876800    16.478279\n",
       "ANZ_HAUSHALTE_AKTIV            6.608773     2.103233     5.984970    18.113108\n",
       "ANZ_STATISTISCHE_HAUSHALTE     6.092161     2.142859     5.409505    16.074903\n",
       "EINGEZOGENAM_HH_JAHR        2003.145594  2001.103024  2006.066231  2006.582825\n",
       "GEMEINDETYP                   18.643941    33.238593    27.973320    12.822889\n",
       "KBA13_ANZAHL_PKW             631.400236   675.609121   724.303032   438.249246\n",
       "LP_LEBENSPHASE_FEIN           16.089917    18.128382    10.271804     8.606079\n",
       "LP_STATUS_FEIN                 5.655747     7.863959     4.036648     1.872762\n",
       "PRAEGENDE_JUGENDJAHRE          8.247898     6.231981    12.373154    11.842548\n",
       "VERDICHTUNGSRAUM               5.814049     2.555780     3.559849     6.979584"
      ]
     },
     "execution_count": 102,
     "metadata": {},
     "output_type": "execute_result"
    }
   ],
   "source": [
    "## Separate focus vs non focus clusters selected based on our analysis\n",
    "focus_clusters = cluster_centers.iloc[[0, 5, 1, 4]].T\n",
    "focus_clusters.columns += 1\n",
    "focus_clusters_red = focus_clusters[focus_clusters.std(axis = 1)>2].sort_index()\n",
    "focus_clusters_red\n"
   ]
  },
  {
   "cell_type": "markdown",
   "metadata": {},
   "source": [
    "Based on the previous table, we can infer the following traits for customers in both focus and non-focust customer segments:\n",
    "\n",
    "*Focus Clusters*\n",
    "* Mid to High-income\n",
    "* Mainly families and single parents\n",
    "* Older than non-focus demographic\n",
    "* Living in single home, duplex or small apartment buildings\n",
    "* More consumption-oriented\n",
    "\n",
    "*Non-focus Clusters*\n",
    "* Low-income\n",
    "* Mainly singles and single parents\n",
    "* Younger than focus demographic\n",
    "* Living in big apartment buildings with many household\n",
    "* Less consumption oriented"
   ]
  },
  {
   "cell_type": "markdown",
   "metadata": {},
   "source": [
    "## Part 2: Supervised Learning Model <a class=\"anchor\" id=\"supervisedlearningmodel\"></a>\n",
    "\n",
    "Now that you've found which parts of the population are more likely to be customers of the mail-order company, it's time to build a prediction model. Each of the rows in the \"MAILOUT\" data files represents an individual that was targeted for a mailout campaign. Ideally, we should be able to use the demographic information from each individual to decide whether or not it will be worth it to include that person in the campaign.\n",
    "\n",
    "The \"MAILOUT\" data has been split into two approximately equal parts, each with almost 43 000 data rows. In this part, you can verify your model with the \"TRAIN\" partition, which includes a column, \"RESPONSE\", that states whether or not a person became a customer of the company following the campaign. In the next part, you'll need to create predictions on the \"TEST\" partition, where the \"RESPONSE\" column has been withheld."
   ]
  },
  {
   "cell_type": "code",
   "execution_count": 54,
   "metadata": {},
   "outputs": [
    {
     "name": "stderr",
     "output_type": "stream",
     "text": [
      "/Users/Emilio/opt/anaconda3/lib/python3.8/site-packages/IPython/core/interactiveshell.py:3146: DtypeWarning: Columns (18,19) have mixed types.Specify dtype option on import or set low_memory=False.\n",
      "  has_raised = await self.run_ast_nodes(code_ast.body, cell_name,\n"
     ]
    }
   ],
   "source": [
    "# mailout_train = pd.read_csv('../../data/Term2/capstone/arvato_data/Udacity_MAILOUT_052018_TRAIN.csv', sep=';')\n",
    "mailout_train = pd.read_csv('data/Udacity_MAILOUT_052018_TRAIN.csv', sep=';')"
   ]
  },
  {
   "cell_type": "code",
   "execution_count": 55,
   "metadata": {},
   "outputs": [],
   "source": [
    "## Clean the data\n",
    "mailout_train_clean = pd.concat(\\\n",
    "                               [fn.clean_data(mailout_train.drop(['RESPONSE'], axis = 1), drop_cols = drop_columns),\\\n",
    "                               mailout_train['RESPONSE']],\\\n",
    "                               axis = 1)"
   ]
  },
  {
   "cell_type": "code",
   "execution_count": 56,
   "metadata": {},
   "outputs": [
    {
     "name": "stdout",
     "output_type": "stream",
     "text": [
      "Old shape: (42962, 367)\n",
      "New shape: (42962, 354) \n",
      "\n",
      "Datatypes:\n",
      "float64    262\n",
      "int64       91\n",
      "object       1\n",
      "dtype: int64\n"
     ]
    }
   ],
   "source": [
    "# Print new shape and datatypes\n",
    "print(\"Old shape: {}\".format(mailout_train.shape))\n",
    "print(\"New shape: {} \\n\".format(mailout_train_clean.shape))\n",
    "print(\"Datatypes:\")\n",
    "print(mailout_train_clean.dtypes.value_counts())"
   ]
  },
  {
   "cell_type": "code",
   "execution_count": 57,
   "metadata": {},
   "outputs": [],
   "source": [
    "## Transform data, impute missing values and separate features from response variables\n",
    "\n",
    "X = mailout_train_clean.drop(['RESPONSE'], axis = 1)\n",
    "X = column_transformer.fit_transform(X)\n",
    "X = pd.DataFrame(X, columns = [col_names])\n",
    "y = mailout_train_clean['RESPONSE']"
   ]
  },
  {
   "cell_type": "markdown",
   "metadata": {},
   "source": [
    "### Class imbalance <a class=\"anchor\" id=\"classimb\"></a>\n",
    "\n",
    "The response variable of this dataset is highly imbalanced, as it can be observed in the following plot:"
   ]
  },
  {
   "cell_type": "code",
   "execution_count": 58,
   "metadata": {},
   "outputs": [
    {
     "data": {
      "image/png": "[encoded data removed]",
      "text/plain": [
       "<Figure size 432x504 with 1 Axes>"
      ]
     },
     "metadata": {
      "needs_background": "light"
     },
     "output_type": "display_data"
    }
   ],
   "source": [
    "### class imbalance plot\n",
    "plt.figure(figsize = (6 , 7))\n",
    "sns.countplot(data = mailout_train_clean, x = 'RESPONSE')\n",
    "plt.title('Respone variable count');\n",
    "\n"
   ]
  },
  {
   "cell_type": "markdown",
   "metadata": {},
   "source": [
    "This fact cant greatly impact the quality of the prediction model as the prediction accuracy cannot be properly meassured. In order to overcome this, there is the possibility of over- or undersampling the current dataset to improve the response balance. Furthermore, the [SMOTE](https://www.analyticsvidhya.com/blog/2020/10/overcoming-class-imbalance-using-smote-techniques) approach further enhances under- and oversampling by incorporating generated synthetic samples. "
   ]
  },
  {
   "cell_type": "code",
   "execution_count": 59,
   "metadata": {},
   "outputs": [],
   "source": [
    "## Apply SMOTE\n",
    "\n",
    "oversample = SMOTE(random_state= 42)\n",
    "X_bal, y_bal = oversample.fit_resample(X,y) "
   ]
  },
  {
   "cell_type": "code",
   "execution_count": 61,
   "metadata": {},
   "outputs": [
    {
     "data": {
      "image/png": "[encoded data removed]",
      "text/plain": [
       "<Figure size 432x504 with 1 Axes>"
      ]
     },
     "metadata": {
      "needs_background": "light"
     },
     "output_type": "display_data"
    }
   ],
   "source": [
    "plt.figure(figsize = (6 , 7))\n",
    "plt.bar(x= [0,1], height = y_bal.value_counts())\n",
    "plt.xticks([0,1])\n",
    "plt.title('Response variable counts');"
   ]
  },
  {
   "cell_type": "markdown",
   "metadata": {},
   "source": [
    "### Model selection <a class=\"anchor\" id=\"modelselection\"></a>\n",
    "\n",
    "In this section we train different classification models to determine which approach is more suitable for our present task. Once selected, the best model can be further optimized by hyperparameter tuning."
   ]
  },
  {
   "cell_type": "code",
   "execution_count": 62,
   "metadata": {},
   "outputs": [],
   "source": [
    "## Define candidate models\n",
    "models = {'RandomForestClassifier': RandomForestClassifier(), \n",
    "          'AdaBoostClassifier': AdaBoostClassifier(), \n",
    "          'GradientBoostingClassifier': GradientBoostingClassifier(),\n",
    "          'BaggingClassifier': BaggingClassifier()\n",
    "         }\n",
    "\n"
   ]
  },
  {
   "cell_type": "code",
   "execution_count": 67,
   "metadata": {
    "scrolled": false
   },
   "outputs": [
    {
     "name": "stdout",
     "output_type": "stream",
     "text": [
      "RandomForestClassifier\n"
     ]
    },
    {
     "data": {
      "image/png": "[encoded data removed]",
      "text/plain": [
       "<Figure size 1440x360 with 3 Axes>"
      ]
     },
     "metadata": {
      "needs_background": "light"
     },
     "output_type": "display_data"
    },
    {
     "name": "stdout",
     "output_type": "stream",
     "text": [
      "AdaBoostClassifier\n"
     ]
    },
    {
     "data": {
      "image/png": "[encoded data removed]",
      "text/plain": [
       "<Figure size 1440x360 with 3 Axes>"
      ]
     },
     "metadata": {
      "needs_background": "light"
     },
     "output_type": "display_data"
    },
    {
     "name": "stdout",
     "output_type": "stream",
     "text": [
      "GradientBoostingClassifier\n"
     ]
    },
    {
     "data": {
      "image/png": "[encoded data removed]",
      "text/plain": [
       "<Figure size 1440x360 with 3 Axes>"
      ]
     },
     "metadata": {
      "needs_background": "light"
     },
     "output_type": "display_data"
    },
    {
     "name": "stdout",
     "output_type": "stream",
     "text": [
      "BaggingClassifier\n"
     ]
    },
    {
     "data": {
      "image/png": "[encoded data removed]",
      "text/plain": [
       "<Figure size 1440x360 with 3 Axes>"
      ]
     },
     "metadata": {
      "needs_background": "light"
     },
     "output_type": "display_data"
    }
   ],
   "source": [
    "## Run crossvalidation to plot learning curves and determine best model\n",
    "    \n",
    "cv = ShuffleSplit(n_splits=2, test_size=0.2, random_state=0)\n",
    "\n",
    "for model_key in models.keys():\n",
    "    print(model_key)\n",
    "    ml_pipeline = Pipeline([\n",
    "        ('model', models[model_key])\n",
    "    ])\n",
    "    \n",
    "    fn.plot_learning_curve(ml_pipeline, title = \"test\",\n",
    "                          X = X_bal, y = y_bal, cv = cv,\n",
    "                          verbose = 0, n_jobs = -1)\n",
    "    plt.show()\n"
   ]
  },
  {
   "cell_type": "markdown",
   "metadata": {},
   "source": [
    "From these experiments we can observe the following:\n",
    "* The `RandomForestClassifier` presented simultaneously the best traning score and the worst validation score. This indicates that this model is overfitting (*i.e.* shows high model bias) and therefore will not be chosen\n",
    "* The `AdaBoostClassifier`, the `GradientBoostingClassifier`, and the `BaggingClassifier` show less model bias as the training and validation score converge relatively early (this occurs already after 30-50% of the data is passed to the algorithm). \n",
    "* Even though `GradientBoostingClassifier` and the `BaggingClassifier` both show similar values levels for the validation score, the `GradientBoostingClassifier` is slightly higher (even though computationally more costly) and therefore we chose to use it during our following steps. "
   ]
  },
  {
   "cell_type": "markdown",
   "metadata": {},
   "source": [
    "\n",
    "### Hyperparameter Tuning <a class=\"anchor\" id=\"tuning\"></a>\n",
    "\n",
    "Now that we selected `GradientBoostingClassifier` as our classification algorithm the next step is to tune is parameters. This can be achieved through a grid-search on which a combination of series of parameters can be tested to select the best configuration."
   ]
  },
  {
   "cell_type": "code",
   "execution_count": 68,
   "metadata": {},
   "outputs": [
    {
     "name": "stdout",
     "output_type": "stream",
     "text": [
      "Fitting 5 folds for each of 8 candidates, totalling 40 fits\n",
      "[CV] END gbc__learning_rate=0.1, gbc__max_depth=3, gbc__min_samples_split=2, gbc__n_estimators=100; total time= 4.5min\n",
      "[CV] END gbc__learning_rate=0.1, gbc__max_depth=3, gbc__min_samples_split=2, gbc__n_estimators=100; total time= 4.3min\n",
      "[CV] END gbc__learning_rate=0.1, gbc__max_depth=3, gbc__min_samples_split=2, gbc__n_estimators=100; total time= 4.3min\n",
      "[CV] END gbc__learning_rate=0.1, gbc__max_depth=3, gbc__min_samples_split=2, gbc__n_estimators=100; total time= 4.5min\n",
      "[CV] END gbc__learning_rate=0.1, gbc__max_depth=3, gbc__min_samples_split=2, gbc__n_estimators=100; total time= 4.1min\n",
      "[CV] END gbc__learning_rate=0.1, gbc__max_depth=3, gbc__min_samples_split=4, gbc__n_estimators=100; total time= 3.8min\n",
      "[CV] END gbc__learning_rate=0.1, gbc__max_depth=3, gbc__min_samples_split=4, gbc__n_estimators=100; total time= 4.1min\n",
      "[CV] END gbc__learning_rate=0.1, gbc__max_depth=3, gbc__min_samples_split=4, gbc__n_estimators=100; total time= 3.9min\n",
      "[CV] END gbc__learning_rate=0.1, gbc__max_depth=3, gbc__min_samples_split=4, gbc__n_estimators=100; total time= 3.7min\n",
      "[CV] END gbc__learning_rate=0.1, gbc__max_depth=3, gbc__min_samples_split=4, gbc__n_estimators=100; total time= 3.8min\n",
      "[CV] END gbc__learning_rate=0.1, gbc__max_depth=5, gbc__min_samples_split=2, gbc__n_estimators=100; total time= 6.7min\n",
      "[CV] END gbc__learning_rate=0.1, gbc__max_depth=5, gbc__min_samples_split=2, gbc__n_estimators=100; total time= 6.6min\n",
      "[CV] END gbc__learning_rate=0.1, gbc__max_depth=5, gbc__min_samples_split=2, gbc__n_estimators=100; total time= 6.9min\n",
      "[CV] END gbc__learning_rate=0.1, gbc__max_depth=5, gbc__min_samples_split=2, gbc__n_estimators=100; total time= 7.2min\n",
      "[CV] END gbc__learning_rate=0.1, gbc__max_depth=5, gbc__min_samples_split=2, gbc__n_estimators=100; total time= 6.8min\n",
      "[CV] END gbc__learning_rate=0.1, gbc__max_depth=5, gbc__min_samples_split=4, gbc__n_estimators=100; total time= 6.6min\n",
      "[CV] END gbc__learning_rate=0.1, gbc__max_depth=5, gbc__min_samples_split=4, gbc__n_estimators=100; total time= 6.0min\n",
      "[CV] END gbc__learning_rate=0.1, gbc__max_depth=5, gbc__min_samples_split=4, gbc__n_estimators=100; total time= 6.0min\n",
      "[CV] END gbc__learning_rate=0.1, gbc__max_depth=5, gbc__min_samples_split=4, gbc__n_estimators=100; total time= 6.4min\n",
      "[CV] END gbc__learning_rate=0.1, gbc__max_depth=5, gbc__min_samples_split=4, gbc__n_estimators=100; total time= 6.7min\n",
      "[CV] END gbc__learning_rate=0.2, gbc__max_depth=3, gbc__min_samples_split=2, gbc__n_estimators=100; total time= 4.1min\n",
      "[CV] END gbc__learning_rate=0.2, gbc__max_depth=3, gbc__min_samples_split=2, gbc__n_estimators=100; total time= 4.1min\n",
      "[CV] END gbc__learning_rate=0.2, gbc__max_depth=3, gbc__min_samples_split=2, gbc__n_estimators=100; total time= 4.1min\n",
      "[CV] END gbc__learning_rate=0.2, gbc__max_depth=3, gbc__min_samples_split=2, gbc__n_estimators=100; total time= 4.1min\n",
      "[CV] END gbc__learning_rate=0.2, gbc__max_depth=3, gbc__min_samples_split=2, gbc__n_estimators=100; total time= 4.1min\n",
      "[CV] END gbc__learning_rate=0.2, gbc__max_depth=3, gbc__min_samples_split=4, gbc__n_estimators=100; total time= 4.2min\n",
      "[CV] END gbc__learning_rate=0.2, gbc__max_depth=3, gbc__min_samples_split=4, gbc__n_estimators=100; total time= 4.1min\n",
      "[CV] END gbc__learning_rate=0.2, gbc__max_depth=3, gbc__min_samples_split=4, gbc__n_estimators=100; total time= 4.1min\n",
      "[CV] END gbc__learning_rate=0.2, gbc__max_depth=3, gbc__min_samples_split=4, gbc__n_estimators=100; total time= 4.1min\n",
      "[CV] END gbc__learning_rate=0.2, gbc__max_depth=3, gbc__min_samples_split=4, gbc__n_estimators=100; total time= 4.1min\n",
      "[CV] END gbc__learning_rate=0.2, gbc__max_depth=5, gbc__min_samples_split=2, gbc__n_estimators=100; total time= 7.4min\n",
      "[CV] END gbc__learning_rate=0.2, gbc__max_depth=5, gbc__min_samples_split=2, gbc__n_estimators=100; total time= 6.8min\n",
      "[CV] END gbc__learning_rate=0.2, gbc__max_depth=5, gbc__min_samples_split=2, gbc__n_estimators=100; total time= 6.8min\n",
      "[CV] END gbc__learning_rate=0.2, gbc__max_depth=5, gbc__min_samples_split=2, gbc__n_estimators=100; total time= 6.8min\n",
      "[CV] END gbc__learning_rate=0.2, gbc__max_depth=5, gbc__min_samples_split=2, gbc__n_estimators=100; total time= 6.8min\n",
      "[CV] END gbc__learning_rate=0.2, gbc__max_depth=5, gbc__min_samples_split=4, gbc__n_estimators=100; total time= 6.9min\n",
      "[CV] END gbc__learning_rate=0.2, gbc__max_depth=5, gbc__min_samples_split=4, gbc__n_estimators=100; total time= 6.9min\n",
      "[CV] END gbc__learning_rate=0.2, gbc__max_depth=5, gbc__min_samples_split=4, gbc__n_estimators=100; total time= 6.9min\n",
      "[CV] END gbc__learning_rate=0.2, gbc__max_depth=5, gbc__min_samples_split=4, gbc__n_estimators=100; total time= 6.8min\n",
      "[CV] END gbc__learning_rate=0.2, gbc__max_depth=5, gbc__min_samples_split=4, gbc__n_estimators=100; total time= 6.8min\n"
     ]
    },
    {
     "data": {
      "text/plain": [
       "GridSearchCV(estimator=Pipeline(steps=[('gbc',\n",
       "                                        GradientBoostingClassifier(random_state=42))]),\n",
       "             param_grid={'gbc__learning_rate': [0.1, 0.2],\n",
       "                         'gbc__max_depth': [3, 5],\n",
       "                         'gbc__min_samples_split': [2, 4],\n",
       "                         'gbc__n_estimators': [100]},\n",
       "             scoring='roc_auc', verbose=2)"
      ]
     },
     "execution_count": 68,
     "metadata": {},
     "output_type": "execute_result"
    }
   ],
   "source": [
    "### Define search grid\n",
    "grid_pipe = Pipeline([\n",
    "    ('gbc', GradientBoostingClassifier(random_state = 42))\n",
    "])\n",
    "\n",
    "grid_params = {'gbc__learning_rate': [0.1, 0.2]\n",
    "              , 'gbc__n_estimators': [100]\n",
    "              , 'gbc__max_depth': [3, 5]\n",
    "              , 'gbc__min_samples_split': [2,4]}        \n",
    "        \n",
    "grid_opt = GridSearchCV(grid_pipe\n",
    "                        , grid_params\n",
    "                        , scoring = 'roc_auc'\n",
    "                        , verbose = 2)\n",
    "\n",
    "## Fit model with grid parameters\n",
    "grid_opt.fit(X_bal, y_bal)\n"
   ]
  },
  {
   "cell_type": "code",
   "execution_count": 70,
   "metadata": {},
   "outputs": [
    {
     "name": "stdout",
     "output_type": "stream",
     "text": [
      "{'gbc__learning_rate': 0.1, 'gbc__max_depth': 5, 'gbc__min_samples_split': 2, 'gbc__n_estimators': 100}\n",
      "ROC score: 0.9900\n",
      "Final ROC score: 0.9900\n"
     ]
    }
   ],
   "source": [
    "# Get the estimator and predict\n",
    "print(grid_opt.best_params_)\n",
    "best_estimator = grid_opt.best_estimator_\n",
    "predictions = best_estimator.predict_proba(X_bal)[:, 1]\n",
    "\n",
    "# Save to file in the current working directory\n",
    "# pkl_filename = \"gd_model.pkl\"  \n",
    "# with open(pkl_filename, 'wb') as file:  \n",
    "#     pickle.dump(best_estimator, file)\n",
    "    \n",
    "# Make predictions using unoptimized and the best model\n",
    "predictions = (grid_pipe.fit(X_bal, y_bal)).predict_proba(X_bal)[:, 1]\n",
    "\n",
    "print(\"ROC score: {:.4f}\".format(roc_auc_score(y_bal, predictions)))\n",
    "print(\"Final ROC score: {:.4f}\".format(roc_auc_score(y_bal, predictions)))\n"
   ]
  },
  {
   "cell_type": "markdown",
   "metadata": {},
   "source": [
    "In addition we can plot which variables have the most importance for the classification model:"
   ]
  },
  {
   "cell_type": "code",
   "execution_count": 79,
   "metadata": {},
   "outputs": [
    {
     "data": {
      "image/png": "[encoded data removed]",
      "text/plain": [
       "<Figure size 864x720 with 1 Axes>"
      ]
     },
     "metadata": {
      "needs_background": "light"
     },
     "output_type": "display_data"
    }
   ],
   "source": [
    "var_imp = pd.Series(best_estimator.named_steps['gbc']\\\n",
    "                    .feature_importances_, index = col_names)\\\n",
    ".sort_values()\n",
    "\n",
    "plt.barh(var_imp[-10:].index, var_imp[-10:])\n",
    "plt.xlabel('Feature Importance')\n",
    "plt.ylabel('Column')\n",
    "plt.title('Top 10 most important Variables');"
   ]
  },
  {
   "cell_type": "markdown",
   "metadata": {},
   "source": [
    "With this section completed, we can therefore proceed to make our predictions for the test set provided for the Kaggle competition,"
   ]
  },
  {
   "cell_type": "markdown",
   "metadata": {},
   "source": [
    "## Part 3: Kaggle Competition\n",
    "\n",
    "Now that you've created a model to predict which individuals are most likely to respond to a mailout campaign, it's time to test that model in competition through Kaggle. If you click on the link [here](http://www.kaggle.com/t/21e6d45d4c574c7fa2d868f0e8c83140), you'll be taken to the competition page where, if you have a Kaggle account, you can enter.\n",
    "\n",
    "Your entry to the competition should be a CSV file with two columns. The first column should be a copy of \"LNR\", which acts as an ID number for each individual in the \"TEST\" partition. The second column, \"RESPONSE\", should be some measure of how likely each individual became a customer – this might not be a straightforward probability. As you should have found in Part 2, there is a large output class imbalance, where most individuals did not respond to the mailout. Thus, predicting individual classes and using accuracy does not seem to be an appropriate performance evaluation method. Instead, the competition will be using AUC to evaluate performance. The exact values of the \"RESPONSE\" column do not matter as much: only that the higher values try to capture as many of the actual customers as possible, early in the ROC curve sweep."
   ]
  },
  {
   "cell_type": "code",
   "execution_count": 81,
   "metadata": {},
   "outputs": [],
   "source": [
    "# mailout_test = pd.read_csv('../../data/Term2/capstone/arvato_data/Udacity_MAILOUT_052018_TEST.csv', sep=';')\n",
    "mailout_test = pd.read_csv('data/Udacity_MAILOUT_052018_TEST.csv', sep=';', low_memory = False)"
   ]
  },
  {
   "cell_type": "code",
   "execution_count": 82,
   "metadata": {},
   "outputs": [],
   "source": [
    "## Clean data\n",
    "mailout_clean = fn.clean_data(df = mailout_test, drop_cols = drop_columns)"
   ]
  },
  {
   "cell_type": "code",
   "execution_count": 83,
   "metadata": {},
   "outputs": [
    {
     "name": "stdout",
     "output_type": "stream",
     "text": [
      "Old shape: (42833, 366)\n",
      "New shape: (42833, 353) \n",
      "\n",
      "Datatypes:\n",
      "float64    262\n",
      "int64       90\n",
      "object       1\n",
      "dtype: int64\n"
     ]
    }
   ],
   "source": [
    "# Print new shape and datatypes\n",
    "print(\"Old shape: {}\".format(mailout_test.shape))\n",
    "print(\"New shape: {} \\n\".format(mailout_clean.shape))\n",
    "print(\"Datatypes:\")\n",
    "print(mailout_clean.dtypes.value_counts())"
   ]
  },
  {
   "cell_type": "code",
   "execution_count": 84,
   "metadata": {},
   "outputs": [],
   "source": [
    "## Transform/impute data\n",
    "mailout_trans = column_transformer.fit_transform(mailout_clean)"
   ]
  },
  {
   "cell_type": "code",
   "execution_count": 96,
   "metadata": {},
   "outputs": [],
   "source": [
    "## Predict RESPONSE\n",
    "\n",
    "kaggle_submission = best_estimator.predict_proba(mailout_trans)[:, 1]"
   ]
  },
  {
   "cell_type": "code",
   "execution_count": 98,
   "metadata": {},
   "outputs": [
    {
     "data": {
      "text/html": [
       "<div>\n",
       "<style scoped>\n",
       "    .dataframe tbody tr th:only-of-type {\n",
       "        vertical-align: middle;\n",
       "    }\n",
       "\n",
       "    .dataframe tbody tr th {\n",
       "        vertical-align: top;\n",
       "    }\n",
       "\n",
       "    .dataframe thead th {\n",
       "        text-align: right;\n",
       "    }\n",
       "</style>\n",
       "<table border=\"1\" class=\"dataframe\">\n",
       "  <thead>\n",
       "    <tr style=\"text-align: right;\">\n",
       "      <th></th>\n",
       "      <th>LNR</th>\n",
       "      <th>RESPONSE</th>\n",
       "    </tr>\n",
       "  </thead>\n",
       "  <tbody>\n",
       "    <tr>\n",
       "      <th>0</th>\n",
       "      <td>1754</td>\n",
       "      <td>0.958608</td>\n",
       "    </tr>\n",
       "    <tr>\n",
       "      <th>1</th>\n",
       "      <td>1770</td>\n",
       "      <td>0.884116</td>\n",
       "    </tr>\n",
       "    <tr>\n",
       "      <th>2</th>\n",
       "      <td>1465</td>\n",
       "      <td>0.632336</td>\n",
       "    </tr>\n",
       "    <tr>\n",
       "      <th>3</th>\n",
       "      <td>1470</td>\n",
       "      <td>0.775692</td>\n",
       "    </tr>\n",
       "    <tr>\n",
       "      <th>4</th>\n",
       "      <td>1478</td>\n",
       "      <td>0.665254</td>\n",
       "    </tr>\n",
       "  </tbody>\n",
       "</table>\n",
       "</div>"
      ],
      "text/plain": [
       "    LNR  RESPONSE\n",
       "0  1754  0.958608\n",
       "1  1770  0.884116\n",
       "2  1465  0.632336\n",
       "3  1470  0.775692\n",
       "4  1478  0.665254"
      ]
     },
     "execution_count": 98,
     "metadata": {},
     "output_type": "execute_result"
    }
   ],
   "source": [
    "## Save predictions in Kaggle's format for submission\n",
    "\n",
    "submission_file = pd.DataFrame({'LNR':mailout_test['LNR'],'RESPONSE':kaggle_submission})\n",
    "\n",
    "submission_file.to_csv('kaggle_submission.csv', index=False)\n",
    "submission_file.head()"
   ]
  },
  {
   "cell_type": "markdown",
   "metadata": {},
   "source": [
    "This submission, once uploaded to Kaggle, obtained a score of 0.70361 which corresponds to a place in the top 300 scores of the competition.\n"
   ]
  },
  {
   "cell_type": "markdown",
   "metadata": {},
   "source": [
    "## Conclusion <a class=\"anchor\" id=\"conclusion\"></a>\n",
    "\n"
   ]
  },
  {
   "cell_type": "markdown",
   "metadata": {},
   "source": [
    "For Udacity's Capstone Project we addressed a customer segmentation project with real data provided by Bertelsmann/Arvato. The purpose of this is project is manyfold: first, to provide insights into focus customers segments for mailing campaigns, second, to develop a machine learning model to predict customer responses, and third, to gauge the prediction quality of such model in an online competition.\n",
    "\n",
    "The project itself presented several challenges, as it required the application of following concepts:\n",
    "* Data cleaning (detecting missing values, transformit column input, ect.)\n",
    "* Dimension reduction and clustering (e.g., PCA, K-means)\n",
    "* ML and ML-pipelines (i.e., creating training/test sets, transforming data, selecting algorithms, cross-validation, grid-search, etc.)\n",
    "* General programming best practices (DRY concepts, code readability, etc.)\n",
    "\n",
    "As for the customer segmentation, once the data provided by Arvato was processed (i.e. empty values removed and column values transformed) we determined that focus of the campaign could be focused into two customer segments containing therefore addressing more than 50% of the customers population. Regarding the development of a supervised algorithm for response prediciton, on a first place, an imbalance in the response variable was detected and  SMOTE oversampling appraoch was applied for this purpose. With the oversampled data, several classification models were tested being GradientBoostingClassifier the approach with the best validation score. The selected lagorithm was in turn used to train a sequence of models on which different hyper-parameters were tested, in order to determine the best configuration for this algorithm and data structure. Lastly, the resulting optimized model was used to make predictions on a test dataset provided for a Kaggle competition. The results where scored with a 0.70361 score, landing on the top 300 results of the competition on a first submission.\n",
    "\n",
    "As for possible improvements on the previously described approach we note the following:\n",
    "* Further exploration on data reduction could be possible. In this case the number of features is still high and some further analyses on this regard might be necessary. Alternatively, there is the possibility of applying feature selection techniques to reduce furthermore the number of features.\n",
    "* Class imbalance was addressed by using an oversampling approach with synthetic values (i.e. SMOTE). Alternate over- and undersampling approaches need to be evaluated to determine the best option to address this issue.\n",
    "* Regarding the algorithm selection, alternative algorithms need to be evaluated as, e.g., SVM, XGBoost, etc.\n",
    "\n",
    "Many thanks to Udacity and Bertelsmann/Arvato for defining this project and making the data available. "
   ]
  },
  {
   "cell_type": "code",
   "execution_count": null,
   "metadata": {},
   "outputs": [],
   "source": []
  }
 ],
 "metadata": {
  "interpreter": {
   "hash": "56216a994b72197ff65cb9401fd825aebdde916ae6083f240d183eb48b1c24c4"
  },
  "kernelspec": {
   "display_name": "Python 3",
   "language": "python",
   "name": "python3"
  },
  "language_info": {
   "codemirror_mode": {
    "name": "ipython",
    "version": 3
   },
   "file_extension": ".py",
   "mimetype": "text/x-python",
   "name": "python",
   "nbconvert_exporter": "python",
   "pygments_lexer": "ipython3",
   "version": "3.8.5"
  }
 },
 "nbformat": 4,
 "nbformat_minor": 2
}
